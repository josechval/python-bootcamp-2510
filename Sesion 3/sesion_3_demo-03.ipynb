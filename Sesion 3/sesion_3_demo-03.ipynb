{
 "cells": [
  {
   "cell_type": "markdown",
   "id": "9daf40e4",
   "metadata": {},
   "source": [
    "# Sesión 3 - Demo 3 - Estructuras de control - `if`, `else`, `elif`."
   ]
  },
  {
   "cell_type": "markdown",
   "id": "12f683a3",
   "metadata": {},
   "source": [
    "Python es un lenguaje de programación que soporta múltiples paradigmas, incluyendo programación estructurada, orientada a objetos y funcional. En esta sesión, nos enfocaremos en las estructuras de control condicionales, que nos permiten ejecutar diferentes bloques de código basados en ciertas condiciones.\n",
    "\n",
    "Los scripts der Python son interpretados línea por línea. Sin embargo, las estructuras de control nos permiten alterar este flujo de ejecución, permitiendo que ciertas partes del código se ejecuten solo si se cumplen ciertas condiciones."
   ]
  },
  {
   "cell_type": "markdown",
   "id": "a8b0bb30",
   "metadata": {},
   "source": [
    "## La palabra clave `if`.\n",
    "La palabra clave `if` se utiliza para ejecutar un bloque de código solo si una condición específica es verdadera. La sintaxis básica es la siguiente:\n",
    "\n",
    "```python\n",
    "if <expresión lógica>:\n",
    "    <código>\n",
    "```\n",
    "Donde:\n",
    "- `<expresión lógica>` es una expresión que evalúa a `True` o `False`.\n",
    "- `<código>` es el bloque de código que se ejecutará si la condición es `True`. Este bloque debe estar indentado para indicar que pertenece al `if`."
   ]
  },
  {
   "cell_type": "markdown",
   "id": "60f59d92",
   "metadata": {},
   "source": [
    "Ejemplos:"
   ]
  },
  {
   "cell_type": "code",
   "execution_count": null,
   "id": "ee997ae9",
   "metadata": {},
   "outputs": [],
   "source": [
    "condicion = True\n",
    "if condicion:\n",
    "    print(\"La condición es True\")"
   ]
  },
  {
   "cell_type": "code",
   "execution_count": null,
   "id": "59c2ed88",
   "metadata": {},
   "outputs": [],
   "source": [
    "condicion = False\n",
    "if not condicion:\n",
    "    print(\"La condición es False\")"
   ]
  },
  {
   "cell_type": "code",
   "execution_count": null,
   "id": "7eabfa5f",
   "metadata": {},
   "outputs": [],
   "source": [
    "print(\"Inicia la ejecución...\")\n",
    "cadena = \"Hola\"\n",
    "print(\"Evaluando la variable cadena...\")\n",
    "print(\"---\")\n",
    "if cadena:\n",
    "    print(\"La variable cadena no está vacía.\")\n",
    "    print(\"---\")\n",
    "print(\"Terminando el flujo de ejecución\")"
   ]
  },
  {
   "cell_type": "code",
   "execution_count": null,
   "id": "47412a4e",
   "metadata": {},
   "outputs": [],
   "source": [
    "print(\"Inicia la ejecución...\")\n",
    "cadena = \"\"\n",
    "print(\"Evaluando la variable cadena...\")\n",
    "print(\"---\")\n",
    "if cadena:\n",
    "    print(\"La variable cadena no está vacía.\")\n",
    "    print(\"---\")\n",
    "print(\"Terminando el flujo de ejecución.\")"
   ]
  },
  {
   "cell_type": "markdown",
   "id": "f5598492",
   "metadata": {},
   "source": [
    "## Estructura `if` ... `else`.\n",
    "\n",
    "La estructura `if` ... `else` nos permite definir un bloque de código alternativo que se ejecutará si la condición del `if` es `False`. La sintaxis es la siguiente:\n",
    "\n",
    "```python\n",
    "if <expresión lógica>:\n",
    "    <código si True>\n",
    "else:\n",
    "    <código si False>\n",
    "```\n",
    "Donde:\n",
    "- `<código si True>` es el bloque de código que se ejecutará si la condición es `True`.\n",
    "- `<código si False>` es el bloque de código que se ejecutará si la condición es `False`."
   ]
  },
  {
   "cell_type": "markdown",
   "id": "465128dc",
   "metadata": {},
   "source": [
    "Ejemplos:"
   ]
  },
  {
   "cell_type": "code",
   "execution_count": null,
   "id": "7dc27dc5",
   "metadata": {},
   "outputs": [],
   "source": [
    "print(\"Inicia la ejecución...\")\n",
    "cadena = \"\"\n",
    "print(\"Evaluando la variable cadena...\")\n",
    "print(\"---\")\n",
    "if cadena:\n",
    "    print(\"La variable cadena NO está vacía.\")\n",
    "else:\n",
    "    print(\"La variable cadena está vacía.\")\n",
    "print(\"---\")\n",
    "print(\"Terminando el flujo de ejecución.\")"
   ]
  },
  {
   "cell_type": "markdown",
   "id": "78d62b36",
   "metadata": {},
   "source": [
    "## Uso de `if`... `elif`...`else`.\n",
    "La estructura `if`...`elif` nos permite evaluar múltiples condiciones secuencialmente. Si la primera condición es `False`, se evalúa la siguiente, y así sucesivamente. En caso de que una condición sea `True`, se ejecuta su bloque de código correspondiente y se omiten las demás. La sintaxis es la siguiente:\n",
    "\n",
    "```python\n",
    "if <expresión lógica 1>:\n",
    "    <código si True 1>\n",
    "elif <expresión lógica 2>:\n",
    "    <código si True 2>\n",
    "elif <expresión lógica 3>:\n",
    "    <código si True 3>\n",
    "else:\n",
    "    <código si todas son False>\n",
    "```\n",
    "Donde:\n",
    "- `<expresión lógica 1>`, `<expresión lógica 2>`, etc., son las condiciones que se evaluarán en orden.\n",
    "- `<código si True 1>`, `<código si True 2>`, etc., son los bloques de código que se ejecutarán si la condición correspondiente es `True`.  \n",
    "- `<código si todas son False>` es el bloque de código que se ejecutará si todas las condiciones anteriores son `False`.\n"
   ]
  },
  {
   "cell_type": "code",
   "execution_count": null,
   "id": "4dc540f9",
   "metadata": {},
   "outputs": [],
   "source": [
    "numero = 6\n",
    "bandera = True\n",
    "print(\"Inicia la evaluación.\")\n",
    "if numero >= 5 and bandera:\n",
    "    print('Se cumplen ambas condiciones.')\n",
    "elif numero <= 3:\n",
    "    print('El valor de la variable numero es menor o igual a 3.')\n",
    "elif bandera:\n",
    "    print( 'El valor de la variable bandera es True.')\n",
    "else:\n",
    "    print('No se cumple ninguna de las condiciones.')\n",
    "print(\"Termina el flujo de ejecución.\")"
   ]
  },
  {
   "cell_type": "code",
   "execution_count": null,
   "id": "8e70a30c",
   "metadata": {},
   "outputs": [],
   "source": [
    "numero = 3\n",
    "bandera = True\n",
    "print(\"Inicia la evaluación.\")\n",
    "if numero >= 5 and bandera:\n",
    "    print('Se cumplen ambas condiciones.')\n",
    "elif numero <= 5:\n",
    "    print('El valor de la variable numero es menor o igual a 5.')\n",
    "elif bandera:\n",
    "    print( 'El valor de la variable bandera es True.')\n",
    "else:\n",
    "    print('No se cumple ninguna de las condiciones.')\n",
    "print(\"Termina el flujo de ejecución.\")\n"
   ]
  },
  {
   "cell_type": "code",
   "execution_count": null,
   "id": "2ae351c1",
   "metadata": {},
   "outputs": [],
   "source": [
    "numero = 4\n",
    "bandera = True\n",
    "print(\"Inicia la evaluación.\")\n",
    "if numero >= 5 and bandera:\n",
    "    print('Se cumplen ambas condiciones.')\n",
    "elif numero <= 3:\n",
    "    print('El valor de la variable numero es menor o igual a 3.')\n",
    "elif bandera:\n",
    "    print( 'El valor de la variable bandera es True.')\n",
    "else:\n",
    "    print('No se cumple ninguna de las condiciones.')\n",
    "print(\"Termina el flujo de ejecución.\")"
   ]
  },
  {
   "cell_type": "code",
   "execution_count": null,
   "id": "535a27c9",
   "metadata": {},
   "outputs": [],
   "source": [
    "numero = 4\n",
    "bandera = False\n",
    "print(\"Inicia la evaluación.\")\n",
    "if numero >= 5 and bandera:\n",
    "    print('Se cumplen ambas condiciones.')\n",
    "elif numero <= 3:\n",
    "    print('El valor de la variable numero es menor o igual a 3.')\n",
    "elif bandera:\n",
    "    print( 'El valor de la variable bandera es True.')\n",
    "else:\n",
    "    print('No se cumple ninguna de las condiciones.')\n",
    "print(\"Termina el flujo de ejecución.\")"
   ]
  },
  {
   "cell_type": "code",
   "execution_count": null,
   "id": "3e263336",
   "metadata": {},
   "outputs": [],
   "source": [
    "numero = 4\n",
    "bandera = False\n",
    "print(\"Inicia la evaluación.\")\n",
    "if numero >= 5 and bandera:\n",
    "    print('Se cumplen ambas condiciones.')\n",
    "elif numero <= 3:\n",
    "    print('El valor de la variable numero es menor o igual a 3.')\n",
    "elif bandera:\n",
    "    print( 'El valor de la variable bandera es True.')\n",
    "else:\n",
    "    print('No se cumple ninguna de las condiciones.')\n",
    "print(\"Termina el flujo de ejecución.\")"
   ]
  },
  {
   "cell_type": "code",
   "execution_count": null,
   "id": "1efdc1a6",
   "metadata": {},
   "outputs": [],
   "source": [
    "numero = 4\n",
    "bandera = False\n",
    "print(\"Inicia la evaluación.\")\n",
    "if numero >= 5 and bandera:\n",
    "    print('Se cumplen ambas condiciones.')\n",
    "elif numero <= 3:\n",
    "    print('El valor de la variable numero es menor o igual a 3.')\n",
    "elif bandera:\n",
    "    print( 'El valor de la variable bandera es True.')\n",
    "print(\"Termina el flujo de ejecución.\")"
   ]
  },
  {
   "cell_type": "markdown",
   "id": "2f62a494",
   "metadata": {},
   "source": [
    "## Código de demostración."
   ]
  },
  {
   "cell_type": "code",
   "execution_count": null,
   "id": "1477dd09",
   "metadata": {},
   "outputs": [],
   "source": [
    "calificacion = 85"
   ]
  },
  {
   "cell_type": "code",
   "execution_count": null,
   "id": "18c98b3f",
   "metadata": {},
   "outputs": [],
   "source": [
    "print(f\"Calificación: {calificacion}\")\n",
    "    \n",
    "if calificacion >= 90:\n",
    "    print(\"Resultado: Excelente\")\n",
    "elif calificacion >= 80:\n",
    "    print(\"Resultado: Muy bien\")\n",
    "else:\n",
    "    print(\"Resultado: Necesita mejorar\")"
   ]
  }
 ],
 "metadata": {
  "kernelspec": {
   "display_name": "base",
   "language": "python",
   "name": "python3"
  },
  "language_info": {
   "codemirror_mode": {
    "name": "ipython",
    "version": 3
   },
   "file_extension": ".py",
   "mimetype": "text/x-python",
   "name": "python",
   "nbconvert_exporter": "python",
   "pygments_lexer": "ipython3",
   "version": "3.13.5"
  }
 },
 "nbformat": 4,
 "nbformat_minor": 5
}
