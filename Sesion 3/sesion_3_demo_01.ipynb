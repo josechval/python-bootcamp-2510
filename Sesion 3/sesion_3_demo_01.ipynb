{
 "cells": [
  {
   "cell_type": "markdown",
   "id": "d8eb420e",
   "metadata": {},
   "source": [
    "# Sesión 3- Demo 1 - Operadores de comparación."
   ]
  },
  {
   "cell_type": "markdown",
   "id": "d2fe9a91",
   "metadata": {},
   "source": [
    "Los operadores de comparación en Python se utilizan para comparar dos valores. Los resultados de estas comparaciones son siempre valores booleanos: `True` o `False`. \n",
    "\n",
    "Como ocurre con el resto de los objetos en Python, los operadores de comparación pueden ser aplicados a cualquier tipo de dato que sea compatible, incluyendo números, cadenas de texto, listas, tuplas, etc."
   ]
  },
  {
   "cell_type": "markdown",
   "id": "bab56a10",
   "metadata": {},
   "source": [
    "Python cuenta con diversas herramientas para comparar valores. Los operadores de comparación más comunes son:\n",
    "| Operador | Descripción               | Ejemplo          | Resultado  |\n",
    "|----------|---------------------------|------------------|------------|\n",
    "| `==`     | Igual a                   | `5 == 5`         | `True`     |\n",
    "| `!=`     | Distinto que              | `5 != 3`         | `True`     |\n",
    "| `>`      | Mayor que                 | `5 > 3`          | `True`     |\n",
    "| `<`      | Menor que                 | `3 < 5`          | `True`     |\n",
    "| `>=`     | Mayor o igual que         | `5 >= 5`         | `True`     |\n",
    "| `<=`     | Menor o igual que         | `3 <= 5`         | `True`     |\n",
    "| `is`     | Identidad (mismo objeto)  | `a is b`         | `True` o `False` |\n",
    "| `is not` | No es idéntico            | `a is not b`     | `True` o `False` |\n",
    "|`in`      | Pertenencia               | `3 in (1, 2, 3)` | `True` o `False` |\n",
    "\n"
   ]
  },
  {
   "cell_type": "markdown",
   "id": "551ba61e",
   "metadata": {},
   "source": [
    "### Operadores de igualdad y desigualdad:\n",
    "\n",
    "Estos operadores comparan si dos valores de un objeto son iguales o diferentes uno del otro.\n",
    "\n",
    "* El operador `==` verifica si los valores de un objeto son iguales.\n",
    "* El operador `!=` verifica si los valores de un objeto son diferentes.\n"
   ]
  },
  {
   "cell_type": "markdown",
   "id": "ea3ab943",
   "metadata": {},
   "source": [
    "La siguiente celda compara dos cadenas de caracteres de tipo `str` idénticas con el operador `==`, por lo que el resultado es `True`."
   ]
  },
  {
   "cell_type": "code",
   "execution_count": null,
   "id": "3374cd6d",
   "metadata": {},
   "outputs": [],
   "source": [
    "'Hola' == 'Hola'"
   ]
  },
  {
   "cell_type": "markdown",
   "id": "bbd9c715",
   "metadata": {},
   "source": [
    "Python es capaz de difenreciar mayúsculas y minúsculas en las comparaciones de cadenas de texto. En la siguiente celda, las dos cadenas son diferentes, por lo que el resultado es `False`."
   ]
  },
  {
   "cell_type": "code",
   "execution_count": null,
   "id": "5e153a96",
   "metadata": {},
   "outputs": [],
   "source": [
    "'Hola' == 'hola'"
   ]
  },
  {
   "cell_type": "markdown",
   "id": "c0eae15e",
   "metadata": {},
   "source": [
    "En el caso de elementos con valores numéricos, Python es capaz de comparar enteros y números de punto flotante."
   ]
  },
  {
   "cell_type": "code",
   "execution_count": null,
   "id": "2c2324ca",
   "metadata": {},
   "outputs": [],
   "source": [
    "11 == 11.00000"
   ]
  },
  {
   "cell_type": "markdown",
   "id": "8e1af017",
   "metadata": {},
   "source": [
    "Los operadores de comparación pueden ser aplicados a listas y tuplas, comparando los elementos en orden."
   ]
  },
  {
   "cell_type": "code",
   "execution_count": null,
   "id": "9032d605",
   "metadata": {},
   "outputs": [],
   "source": [
    "[1, 2, 3, 4] != [1.0, 2.0, 3.0, 4.0]"
   ]
  },
  {
   "cell_type": "markdown",
   "id": "f0daa30d",
   "metadata": {},
   "source": [
    "El valor booleano `False` es considerado igual a `0`."
   ]
  },
  {
   "cell_type": "code",
   "execution_count": null,
   "id": "3a725e3a",
   "metadata": {},
   "outputs": [],
   "source": [
    "0 == False"
   ]
  },
  {
   "cell_type": "markdown",
   "id": "939f1a8e",
   "metadata": {},
   "source": [
    "El valor booleano `True` es considerado igual a `1`.\n"
   ]
  },
  {
   "cell_type": "code",
   "execution_count": null,
   "id": "a5532a2a",
   "metadata": {},
   "outputs": [],
   "source": [
    "True == 1"
   ]
  },
  {
   "cell_type": "markdown",
   "id": "658eb319",
   "metadata": {},
   "source": [
    "En el caso de comparaciones entre diferentes tipos de datos, Python puede devolver `False` si los tipos no son compatibles para la comparación.\n"
   ]
  },
  {
   "cell_type": "code",
   "execution_count": null,
   "id": "9a8e0331",
   "metadata": {},
   "outputs": [],
   "source": [
    "(1) == [1]"
   ]
  },
  {
   "cell_type": "markdown",
   "id": "523a00a6",
   "metadata": {},
   "source": [
    "### Operadores de comparación de magnitud.\n",
    "Estos operadores comparan la magnitud de dos valores. \n",
    "| Operador | Descripción               | \n",
    "|----------|---------------------------|\n",
    "| `>`      | Mayor que                 |\n",
    "| `<`      | Menor que                 |\n",
    "| `>=`     | Mayor o igual que         |\n",
    "| `<=`     | Menor o igual que         |\n",
    "* En el caso de cadenas de texto, la comparación se realiza en función del orden lexicográfico (orden alfabético).\n",
    "* El el caso de listas y tuplas, la comparación se realiza elemento por elemento en orden."
   ]
  },
  {
   "cell_type": "code",
   "execution_count": null,
   "id": "4c3ee5f0",
   "metadata": {},
   "outputs": [],
   "source": [
    "12 >= 3"
   ]
  },
  {
   "cell_type": "code",
   "execution_count": null,
   "id": "84784bfa",
   "metadata": {},
   "outputs": [],
   "source": [
    "'A' <= 'a'"
   ]
  },
  {
   "cell_type": "code",
   "execution_count": null,
   "id": "36a91fcf",
   "metadata": {},
   "outputs": [],
   "source": [
    "'abeja' >='abejA'"
   ]
  },
  {
   "cell_type": "code",
   "execution_count": null,
   "id": "220cf665",
   "metadata": {},
   "outputs": [],
   "source": [
    "True > False"
   ]
  },
  {
   "cell_type": "code",
   "execution_count": null,
   "id": "1b682aca",
   "metadata": {},
   "outputs": [],
   "source": [
    "[1, 2, 3] <= [1, 2, 4]"
   ]
  },
  {
   "cell_type": "code",
   "execution_count": null,
   "id": "73eb2368",
   "metadata": {},
   "outputs": [],
   "source": [
    "(3, 2) >= (1, 2, 3)"
   ]
  },
  {
   "cell_type": "markdown",
   "id": "a23e826b",
   "metadata": {},
   "source": [
    "### Operadores `in` y `not in`.\n",
    "\n",
    "Estos operadores se utilizan para verificar la pertenencia de un elemento dentro de una colección, como listas, tuplas, conjuntos o cadenas de caracteres. En el caso de dicionarios, el operador `in` verifica la presencia de una clave en el diccionario.\n"
   ]
  },
  {
   "cell_type": "markdown",
   "id": "b6da691a",
   "metadata": {},
   "source": [
    "Ejemplos:"
   ]
  },
  {
   "cell_type": "code",
   "execution_count": null,
   "id": "e9181c32",
   "metadata": {},
   "outputs": [],
   "source": [
    "'z' in 'arroz'"
   ]
  },
  {
   "cell_type": "code",
   "execution_count": null,
   "id": "ef4d6122",
   "metadata": {},
   "outputs": [],
   "source": [
    "'z' not in 'arroz'"
   ]
  },
  {
   "cell_type": "markdown",
   "id": "80ce1fb1",
   "metadata": {},
   "source": [
    "El el caso de cadenas de caracteres, el operador `in` verifica si una subcadena está presente dentro de otra cadena."
   ]
  },
  {
   "cell_type": "code",
   "execution_count": null,
   "id": "71d9457c",
   "metadata": {},
   "outputs": [],
   "source": [
    "'ro' in 'arroz'"
   ]
  },
  {
   "cell_type": "markdown",
   "id": "fe14fe1a",
   "metadata": {},
   "source": [
    "En la siguiente celda Python buscará una lista `[2, 3] ` dentro de otra lista, en vez de buscar `2` y  `3` individualmente."
   ]
  },
  {
   "cell_type": "code",
   "execution_count": null,
   "id": "ba9d1436",
   "metadata": {},
   "outputs": [],
   "source": [
    "[2, 3] in [1, 2, 3]"
   ]
  },
  {
   "cell_type": "markdown",
   "id": "0053cf78",
   "metadata": {},
   "source": [
    "La siguiente celda busca la lista `[2, 3]` dentro de una lista de listas."
   ]
  },
  {
   "cell_type": "code",
   "execution_count": null,
   "id": "042657d4",
   "metadata": {},
   "outputs": [],
   "source": [
    "[2, 3] in [[1, 2],[2,3], [3,4,5]]"
   ]
  },
  {
   "cell_type": "markdown",
   "id": "837f641c",
   "metadata": {},
   "source": [
    "En la siguiente celda se validará si la clave `'a'` está presente en el diccionario `{'a': 1, 'b': 2}`.\n"
   ]
  },
  {
   "cell_type": "code",
   "execution_count": null,
   "id": "89c74483",
   "metadata": {},
   "outputs": [],
   "source": [
    "'a' in {'a': 1, 'b': 2}"
   ]
  },
  {
   "cell_type": "markdown",
   "id": "35d94528",
   "metadata": {},
   "source": [
    "## Código de demostración."
   ]
  },
  {
   "cell_type": "code",
   "execution_count": null,
   "id": "cd6bcdc1",
   "metadata": {},
   "outputs": [],
   "source": [
    "# Ejemplo 1: Comparaciones básicas\n",
    "edad = 25\n",
    "edad_minima = 18\n",
    "    \n",
    "print(\"=== Demo: Operadores de Comparación ===\")\n",
    "print(f\"Edad: {edad}\")\n",
    "print(f\"Edad mínima: {edad_minima}\")\n",
    "print(f\"¿Es mayor de edad? {edad >= edad_minima}\")"
   ]
  },
  {
   "cell_type": "code",
   "execution_count": null,
   "id": "cc4ec0de",
   "metadata": {},
   "outputs": [],
   "source": [
    "# Ejemplo 2: Comparación de precios\n",
    "precio = 100\n",
    "precio_oferta = 80\n",
    "    \n",
    "print(f\"\\nPrecio regular: ${precio}\")\n",
    "print(f\"Precio oferta: ${precio_oferta}\")\n",
    "print(f\"¿Está en oferta? {precio > precio_oferta}\")"
   ]
  }
 ],
 "metadata": {
  "kernelspec": {
   "display_name": "Python 3",
   "language": "python",
   "name": "python3"
  },
  "language_info": {
   "codemirror_mode": {
    "name": "ipython",
    "version": 3
   },
   "file_extension": ".py",
   "mimetype": "text/x-python",
   "name": "python",
   "nbconvert_exporter": "python",
   "pygments_lexer": "ipython3",
   "version": "3.13.7"
  }
 },
 "nbformat": 4,
 "nbformat_minor": 5
}
