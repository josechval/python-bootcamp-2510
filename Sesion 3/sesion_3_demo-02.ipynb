{
 "cells": [
  {
   "cell_type": "markdown",
   "id": "2feef125",
   "metadata": {},
   "source": [
    "# Sesión 3 - Demo 2 - Operadores lógicos `and`, `or` y `not`."
   ]
  },
  {
   "cell_type": "markdown",
   "id": "2ec2ee03",
   "metadata": {},
   "source": [
    "En prácticamente todos los lenguajes de programación existen los operadores lógicos `and`, `or` y `not`. Estos operadores permiten combinar expresiones booleanas para formar expresiones más complejas."
   ]
  },
  {
   "cell_type": "markdown",
   "id": "d35d69f2",
   "metadata": {},
   "source": [
    "## Tabla de verdad.\n",
    "Las tablas de verdad muestran los resultados de las operaciones lógicas para todas las combinaciones posibles de valores de entrada. En la tabla anterior, podemos ver cómo funcionan los operadores `and`, `or` y `not` con los valores booleanos `True` y `False`.\n",
    "\n",
    "| A     | B     | A and B | A or B | not A |\n",
    "|-------|-------|---------|--------|-------|\n",
    "| True  | True  | True    | True   | False |\n",
    "| True  | False | False   | True   | False |\n",
    "| False | True  | False   | True   | True  |\n",
    "| False | False | False   | False  | True  |"
   ]
  },
  {
   "cell_type": "code",
   "execution_count": null,
   "id": "7c32fa31",
   "metadata": {},
   "outputs": [],
   "source": [
    "True and True"
   ]
  },
  {
   "cell_type": "code",
   "execution_count": null,
   "id": "fcb21927",
   "metadata": {},
   "outputs": [],
   "source": [
    "False and True"
   ]
  },
  {
   "cell_type": "code",
   "execution_count": null,
   "id": "b89d6d61",
   "metadata": {},
   "outputs": [],
   "source": [
    "False or True"
   ]
  },
  {
   "cell_type": "markdown",
   "id": "5cef060f",
   "metadata": {},
   "source": [
    "### Valores que se evalúan como `False`.\n",
    "En Python, los siguientes valores se evalúan como `False` en un contexto booleano:\n",
    "- `None`\n",
    "- `False`\n",
    "- `0` (cero) de cualquier tipo numérico (`int`, `float`, `complex`)\n",
    "- Cadenas vacías (`''`, `\"\"`)\n",
    "- Listas vacías (`[]`)\n",
    "- Tuplas vacías (`()`)\n",
    "- Diccionarios vacíos (`{}`)\n",
    "- Conjuntos vacíos (`set()`)\n",
    "\n",
    "El resultado de expresiones con elementos vaciós regresa el valor del elemento vacío en vez de `False`.\n",
    "\n",
    "Un elemento que no está en la lista anterior se evalúa como `True` en un contexto booleano."
   ]
  },
  {
   "cell_type": "code",
   "execution_count": null,
   "id": "57f4d649",
   "metadata": {},
   "outputs": [],
   "source": [
    "0 and True"
   ]
  },
  {
   "cell_type": "code",
   "execution_count": null,
   "id": "7fc064d0",
   "metadata": {},
   "outputs": [],
   "source": [
    "# El intérprete de Python no despliega el valor `None` cuando es el resultado de una expresión. En este caso se usa print().\n",
    "print(None and True)"
   ]
  },
  {
   "cell_type": "code",
   "execution_count": null,
   "id": "c97c8918",
   "metadata": {},
   "outputs": [],
   "source": [
    "'' and True"
   ]
  },
  {
   "cell_type": "code",
   "execution_count": null,
   "id": "3ab2477c",
   "metadata": {},
   "outputs": [],
   "source": [
    "[] and True"
   ]
  },
  {
   "cell_type": "code",
   "execution_count": null,
   "id": "791fab17",
   "metadata": {},
   "outputs": [],
   "source": [
    "\"Hola\" and True"
   ]
  },
  {
   "cell_type": "code",
   "execution_count": null,
   "id": "eaead561",
   "metadata": {},
   "outputs": [],
   "source": [
    "12 and True"
   ]
  },
  {
   "cell_type": "code",
   "execution_count": null,
   "id": "d2e1a8dd",
   "metadata": {},
   "outputs": [],
   "source": [
    "[None] and True"
   ]
  },
  {
   "cell_type": "markdown",
   "id": "9602af86",
   "metadata": {},
   "source": [
    "## Expresiones lógicas.\n",
    "\n",
    "Las expresiones lógicas en Python pueden combinarse utilizando los operadores de comparación y los operadores lógicos `and`, `or` y `not`."
   ]
  },
  {
   "cell_type": "code",
   "execution_count": null,
   "id": "2fec2854",
   "metadata": {},
   "outputs": [],
   "source": [
    "x = 1.0\n",
    "x > 3 and x != 3"
   ]
  },
  {
   "cell_type": "code",
   "execution_count": null,
   "id": "3feffc25",
   "metadata": {},
   "outputs": [],
   "source": [
    "x = 4\n",
    "5 > x > 3"
   ]
  },
  {
   "cell_type": "code",
   "execution_count": null,
   "id": "20beb9fc",
   "metadata": {},
   "outputs": [],
   "source": [
    "x = 4\n",
    "cadena = 'Hola'\n",
    "5 > x > 3 and 'o' in cadena"
   ]
  },
  {
   "cell_type": "code",
   "execution_count": null,
   "id": "2344d614",
   "metadata": {},
   "outputs": [],
   "source": [
    "x = 4\n",
    "cadena = 'Hola'\n",
    "5 > x > 3 or 'z' in cadena"
   ]
  },
  {
   "cell_type": "code",
   "execution_count": null,
   "id": "83234cb8",
   "metadata": {},
   "outputs": [],
   "source": [
    "cadena = 'Hola'\n",
    "not 'x' in cadena"
   ]
  },
  {
   "cell_type": "markdown",
   "id": "0f7e8640",
   "metadata": {},
   "source": [
    "## Uso de paréntesis.\n",
    "\n",
    "Todas las expresiones lógicas pueden contener paréntesis para definir el orden de evaluación. Los paréntesis tienen la mayor precedencia, seguidos por `not`, luego `and`, y finalmente `or`."
   ]
  },
  {
   "cell_type": "code",
   "execution_count": null,
   "id": "53755b3a",
   "metadata": {},
   "outputs": [],
   "source": [
    "False and True or True"
   ]
  },
  {
   "cell_type": "code",
   "execution_count": null,
   "id": "2f52b883",
   "metadata": {},
   "outputs": [],
   "source": [
    "(False and True) or True"
   ]
  },
  {
   "cell_type": "code",
   "execution_count": null,
   "id": "9a3bd222",
   "metadata": {},
   "outputs": [],
   "source": [
    "False and (True or True)"
   ]
  },
  {
   "cell_type": "code",
   "execution_count": null,
   "id": "05920d8f",
   "metadata": {},
   "outputs": [],
   "source": [
    "not (True or True)"
   ]
  },
  {
   "cell_type": "markdown",
   "id": "f7bdc714",
   "metadata": {},
   "source": [
    "## Código demostrativo."
   ]
  },
  {
   "cell_type": "code",
   "execution_count": null,
   "id": "4e7b48b4",
   "metadata": {},
   "outputs": [],
   "source": [
    "# Configuración de producto\n",
    "precio = 500\n",
    "stock = 10\n",
    "    \n",
    "print(\"=== Demo: Operadores Lógicos ===\")\n",
    "print(f\"Precio: ${precio}\")\n",
    "print(f\"Stock: {stock}\")"
   ]
  },
  {
   "cell_type": "code",
   "execution_count": null,
   "id": "7fea92f9",
   "metadata": {},
   "outputs": [],
   "source": [
    "# Verificar si el producto está disponible para venta\n",
    "precio_valido = precio > 0\n",
    "hay_stock = stock > 0\n",
    "    \n",
    "disponible = precio_valido and hay_stock\n",
    "print(f\"\\nPrecio válido: {precio_valido}\")\n",
    "print(f\"Hay stock: {hay_stock}\")\n",
    "print(f\"¿Producto disponible? {disponible}\")"
   ]
  }
 ],
 "metadata": {
  "kernelspec": {
   "display_name": "base",
   "language": "python",
   "name": "python3"
  },
  "language_info": {
   "codemirror_mode": {
    "name": "ipython",
    "version": 3
   },
   "file_extension": ".py",
   "mimetype": "text/x-python",
   "name": "python",
   "nbconvert_exporter": "python",
   "pygments_lexer": "ipython3",
   "version": "3.13.5"
  }
 },
 "nbformat": 4,
 "nbformat_minor": 5
}
