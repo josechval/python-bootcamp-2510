{
 "cells": [
  {
   "cell_type": "markdown",
   "id": "f0102b6b",
   "metadata": {},
   "source": [
    "# Sesión 3 - Laboratorio 1 - Validación"
   ]
  },
  {
   "cell_type": "markdown",
   "id": "0f0c4254",
   "metadata": {},
   "source": [
    "Objetivo: Practicar el uso de operadores de comparación y condicionales\n",
    "\n",
    "La función debe validar:\n",
    "1. El precio debe ser mayor que 0\n",
    "2. El stock debe ser mayor o igual a 0"
   ]
  },
  {
   "cell_type": "code",
   "execution_count": null,
   "id": "60be1d6c",
   "metadata": {},
   "outputs": [],
   "source": [
    "def validar_producto(precio, stock):\n",
    "    \"\"\"\n",
    "    Validar si un producto cumple con los requisitos mínimos\n",
    "    Args:\n",
    "        precio (float): Precio del producto\n",
    "        stock (int): Cantidad en inventario\n",
    "    Returns:\n",
    "        (bool): stock_valido and precio_valido\n",
    "    \"\"\"\n",
    "    # Implementar las validaciones siguiendo estos pasos:\n",
    "    # 1. Primero, validar que el precio sea mayor que 0\n",
    "\n",
    "    precio_valido = precio > # TODO\n",
    "    \n",
    "    # 2. Luego, validar que el stock no sea negativo\n",
    "    \n",
    "    stock_valido = stock >= # TODO\n",
    "    \n",
    "    \n",
    "    # 3. Si llegamos aquí, significa que todo está válido\n",
    "    #    - Puedes retornar True o cualquier otro valor que indique éxito\n",
    "    \n",
    "    return  # TODO and #TODO"
   ]
  },
  {
   "cell_type": "code",
   "execution_count": null,
   "id": "bbab7e91",
   "metadata": {},
   "outputs": [],
   "source": [
    "# Casos de prueba\n",
    "productos = [\n",
    "    {\"precio\": 100, \"stock\": 5},\n",
    "    {\"precio\": -50, \"stock\": 0},\n",
    "    {\"precio\": 75.5, \"stock\": -1}\n",
    "]"
   ]
  },
  {
   "cell_type": "code",
   "execution_count": null,
   "id": "b37d66c6",
   "metadata": {},
   "outputs": [],
   "source": [
    "print(\"=== Validación de Productos ===\")\n",
    "    \n",
    "for i, producto in enumerate(productos, 1):\n",
    "    print(f\"\\nProducto {i}:\")\n",
    "    print(f\"Precio: ${producto['precio']}\")\n",
    "    print(f\"Stock: {producto['stock']}\")\n",
    "    es_valido = validar_producto(producto[\"precio\"], producto[\"stock\"])\n",
    "    print(f\"Estado Válido: {es_valido}\")"
   ]
  }
 ],
 "metadata": {
  "language_info": {
   "name": "python"
  }
 },
 "nbformat": 4,
 "nbformat_minor": 5
}
