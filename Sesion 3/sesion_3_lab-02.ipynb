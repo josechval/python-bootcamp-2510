{
 "cells": [
  {
   "cell_type": "markdown",
   "id": "0d0dd30f",
   "metadata": {},
   "source": [
    "# Sesión 3 - Laboratorio 2 - Clasificación de Productos\n",
    "\n",
    "Objetivo: Practicar estructuras if-elif-else"
   ]
  },
  {
   "cell_type": "markdown",
   "id": "e4cece9b",
   "metadata": {},
   "source": [
    "El sistema debe clasificar productos según su precio:\n",
    "- Menos de 50: \"Económico\"\n",
    "- Entre 50 y 100: \"Estándar\"\n",
    "- Más de 100: \"Premium\""
   ]
  },
  {
   "cell_type": "code",
   "execution_count": null,
   "id": "e7186540",
   "metadata": {},
   "outputs": [],
   "source": [
    "def clasificar_producto(precio):\n",
    "    \"\"\"\n",
    "    Clasifica un producto según su precio\n",
    "    Args:\n",
    "        precio (float): Precio del producto\n",
    "    Returns:\n",
    "        str: Categoría del producto (Económico, Estándar, Premium)\n",
    "    \"\"\"\n",
    "    # Implementar la clasificación siguiendo estos pasos:\n",
    "    # 1. Primero, validar que el precio sea mayor que 0\n",
    "\n",
    "    if #TODO > 0: \n",
    "        # 2. Luego, implementar la lógica de clasificación usando if-elif-else\n",
    "        #    - Si precio < 50: retornar \"Económico\"\n",
    "        #    - Si precio está entre 50 y 100: retornar \"Estándar\"\n",
    "        #    - Si precio > 100: retornar \"Premium\"\n",
    "        if precio < #TODO:\n",
    "            tipo = \"Económico\"\n",
    "        elif precio >= #TODO and precio <= #TODO:\n",
    "            tipo = \"Estándar\"\n",
    "        elif precio > #TODO:\n",
    "            tipo = \"Premium\"\n",
    "    else:\n",
    "        tipo = \"Inválido\"\n",
    "    return tipo"
   ]
  },
  {
   "cell_type": "code",
   "execution_count": null,
   "id": "e12acc70",
   "metadata": {},
   "outputs": [],
   "source": [
    "# Casos de prueba\n",
    "precios = [25.99, 75.50, 150.00, -10.00]"
   ]
  },
  {
   "cell_type": "code",
   "execution_count": null,
   "id": "12f91cf6",
   "metadata": {},
   "outputs": [],
   "source": [
    "print(\"=== Clasificación de Productos ===\")\n",
    "    \n",
    "for precio in precios:\n",
    "    print(f\"\\nPrecio: ${precio}\")\n",
    "    print(f\"Clase: {clasificar_producto(precio)}\")"
   ]
  }
 ],
 "metadata": {
  "language_info": {
   "name": "python"
  }
 },
 "nbformat": 4,
 "nbformat_minor": 5
}
