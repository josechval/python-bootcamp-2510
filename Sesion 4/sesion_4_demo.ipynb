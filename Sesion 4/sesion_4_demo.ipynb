{
 "cells": [
  {
   "cell_type": "markdown",
   "id": "f424c887",
   "metadata": {},
   "source": [
    "# Sesion 4 - Demos - Iteraciones y ciclos"
   ]
  },
  {
   "cell_type": "markdown",
   "id": "312d51f7",
   "metadata": {},
   "source": [
    "\n",
    "Objetivo: Mostrar el uso de ciclos con `while` e iteraciones con la estructura `for` ... `in` para procesar datos."
   ]
  },
  {
   "cell_type": "markdown",
   "id": "d3f43e2d",
   "metadata": {},
   "source": [
    "## Ciclos con  `while`.\n",
    "\n",
    "La palabra clave `while` permite ejecutar ciclos que contienen un bloque de código siempre que una condición lógica sea `True`.\n",
    "\n",
    "```\n",
    "while <expresión lógica>:\n",
    "    <código>\n",
    "```\n",
    "Donde:\n",
    "\n",
    "* `<expresión lógica>` es una expresión que de por resultado un valor equiparable a `True` o `False`.\n",
    "* `<código>`es el código indentado que será ejecutado por `while` en caso de que la expresión sea equiparable a `True`. "
   ]
  },
  {
   "cell_type": "code",
   "execution_count": null,
   "id": "d59448d5",
   "metadata": {},
   "outputs": [],
   "source": [
    "suma = 0\n",
    "# El ciclo se ejecutará siempre que 'suma' sea menor o igual a 5.\n",
    "while suma <= 5:\n",
    "    print(suma)\n",
    "    suma += 1"
   ]
  },
  {
   "cell_type": "markdown",
   "id": "b4334121",
   "metadata": {},
   "source": [
    "La palabra especiales `continue`"
   ]
  },
  {
   "cell_type": "markdown",
   "id": "08ed5fa0",
   "metadata": {},
   "source": [
    "## Objetos iterables.\n",
    "\n",
    "Un objeto iterable es aquel que de alguna forma es capaz de regresar cada elemento de la estructura de datos que contiene de forma secuencial.\n",
    "\n",
    "Entre estos tipos de datos están.\n",
    "\n",
    "* Las cadenas de datos de tipo `string`.\n",
    "* Las listas.\n",
    "* Las tuplas.\n",
    "* Los diccionarios en varias modalidades."
   ]
  },
  {
   "cell_type": "markdown",
   "id": "e0e7d85c",
   "metadata": {},
   "source": [
    "## La estructura `for` ... `in`.\n",
    "\n",
    "Esta estructura permite obtener cada uno de los elementos de un objeto iterable y asignárselo a una variable dentro de un ciclo.\n",
    "\n",
    "```\n",
    "for <variable> in <iterable>:\n",
    "    <código>\n",
    "```\n",
    "Donde:\n",
    "\n",
    "* `<iterable>` es un objeto iterable.\n",
    "* `<variable>`es el nombre de la variable a la que se le asignará cada valor del iterable.\n",
    "\n",
    "Al final del ciclo `<variable>` tendrá asignado el valor del último elemento del objeto iterable."
   ]
  },
  {
   "cell_type": "code",
   "execution_count": null,
   "id": "94782ae0",
   "metadata": {},
   "outputs": [],
   "source": [
    "for letra in 'abcdef':\n",
    "    print(letra)"
   ]
  },
  {
   "cell_type": "code",
   "execution_count": null,
   "id": "a3c99c68",
   "metadata": {},
   "outputs": [],
   "source": [
    "print(letra)"
   ]
  },
  {
   "cell_type": "code",
   "execution_count": null,
   "id": "97461820",
   "metadata": {},
   "outputs": [],
   "source": [
    "frutas = [\"manzana\", \"piña\", \"cereza\", \"fresa\"]\n",
    "for fruta in frutas:\n",
    "    print(fruta)"
   ]
  },
  {
   "cell_type": "code",
   "execution_count": null,
   "id": "f797b7bb",
   "metadata": {},
   "outputs": [],
   "source": [
    "objeto = {\"nombre\": \"Juan\", \"apellido\": \"Pérez\", \"cliente\": True}"
   ]
  },
  {
   "cell_type": "code",
   "execution_count": null,
   "id": "1fe39fe4",
   "metadata": {},
   "outputs": [],
   "source": [
    "for clave in objeto:\n",
    "    print(clave)"
   ]
  },
  {
   "cell_type": "code",
   "execution_count": null,
   "id": "2a2d198e",
   "metadata": {},
   "outputs": [],
   "source": [
    "for valor in objeto.values():\n",
    "    print(valor)"
   ]
  },
  {
   "cell_type": "code",
   "execution_count": null,
   "id": "a9e2b718",
   "metadata": {},
   "outputs": [],
   "source": [
    "for item in objeto.items():\n",
    "    print(item)"
   ]
  },
  {
   "cell_type": "markdown",
   "id": "993c061b",
   "metadata": {},
   "source": [
    "## La función `range()`.\n",
    "\n",
    "Esta función permite creará iterable que contiene un rango de números enteros secuenciales.\n",
    "\n",
    "```\n",
    "range(<inicial>, <final>, <paso>)\n",
    "```\n",
    "Donde:\n",
    "\n",
    "* `<inicial>`: es el valor incial del rango.\n",
    "* `<final>`: es el valor final del rango. El rango finaliza antes de llegar a este valor.\n",
    "* `<paso>`: es la magnitud de los incrementos o decrementos del rango. El valor por defecto es `1`.\n"
   ]
  },
  {
   "cell_type": "code",
   "execution_count": null,
   "id": "61611e78",
   "metadata": {},
   "outputs": [],
   "source": [
    "# Regresará un rango de números de -1 a 4 en incrementos de 1.\n",
    "for x in range(-1, 5):\n",
    "    print(x)"
   ]
  },
  {
   "cell_type": "code",
   "execution_count": null,
   "id": "356c4487",
   "metadata": {},
   "outputs": [],
   "source": [
    "# Regresará un rango de números de 20 a 2 en decrementos de -2.\n",
    "for x in range(20, 0, -2):\n",
    "    print(x)"
   ]
  },
  {
   "cell_type": "markdown",
   "id": "9bb37830",
   "metadata": {},
   "source": [
    "## La función `enumerate()`.\n",
    "\n",
    "La función `enumerate()` regresa una secuencia de pares dentro de una tupla a partir de un objketo iterable en la que el primer elemento es un índice entero y el segundo es el elemento correspondiente dentro del iterable.\n",
    "\n",
    "```\n",
    "enumerate(<iterable>, <índice inicial>)\n",
    "```\n",
    "\n",
    "Donde:\n",
    "\n",
    "* `<iterable>`: es un objeto iterable.\n",
    "* `<índice inicial>`: es un entero que representa el índice inicial de la secuencia. Su valor por defecto es  `0`."
   ]
  },
  {
   "cell_type": "code",
   "execution_count": null,
   "id": "75fca458",
   "metadata": {},
   "outputs": [],
   "source": [
    "for par in enumerate('Hola', 1):\n",
    "    print(par)"
   ]
  },
  {
   "cell_type": "markdown",
   "id": "a72d6ba9",
   "metadata": {},
   "source": [
    "## Desempaquetado en iteraciones.\n",
    "\n",
    "Si todos los elementos de un iterador contienen el mismo número de elementos, es posible asignar a cada elemento interno el nombre de una variable.\n",
    "\n",
    "```\n",
    "for <var 1>, <var 2>, ... <var n> in <iterable>:\n",
    "    ...\n",
    "```\n",
    "\n",
    "Donde:\n",
    "\n",
    "* `<iterable>` es un iterable que contiene elementos de tamaño `n`.\n",
    "* `<var i>` es el nombre de una variable para cada elemento interno."
   ]
  },
  {
   "cell_type": "code",
   "execution_count": null,
   "id": "5eebf962",
   "metadata": {},
   "outputs": [],
   "source": [
    "# Se le asignará cada índice a 'i' y cada caracter a 'letra'.\n",
    "for i, letra in enumerate('Hola'):\n",
    "    print(f'El elemento con índice {i}, es: {letra}.')"
   ]
  },
  {
   "cell_type": "code",
   "execution_count": null,
   "id": "ae5a27ea",
   "metadata": {},
   "outputs": [],
   "source": [
    "objeto = {\"nombre\": \"Juan\", \"apellido\": \"Pérez\", \"cliente\": True}"
   ]
  },
  {
   "cell_type": "code",
   "execution_count": null,
   "id": "8679d1d7",
   "metadata": {},
   "outputs": [],
   "source": [
    "# Le asignará cada clave del diccionario a 'clave'y cadaq valor a 'valor'.\n",
    "for clave, valor in objeto.items():\n",
    "    print(f\"El contenido del elemento con clave '{clave}' es: {valor}.\")"
   ]
  },
  {
   "cell_type": "markdown",
   "id": "8220b6e2",
   "metadata": {},
   "source": [
    "## Finalización de ejecución de una subrutina con `continue`. \n",
    "\n",
    "La palabra clave `continue` permite terminar la ejecución de un flujo dentro de un bloque cuando se encuentra en una iteración o ciclo, regresando al punto inicial de la siguiente iteración."
   ]
  },
  {
   "cell_type": "code",
   "execution_count": null,
   "id": "01f946df",
   "metadata": {},
   "outputs": [],
   "source": [
    "contador = 0\n",
    "\n",
    "while contador < 6:\n",
    "    contador += 1\n",
    "    print('---\\n')\n",
    "    print(f'El número es:{contador}.')\n",
    "    # Si el número es impar, omitimos el resto de esta iteración y continuamos con la siguiente.\n",
    "    if contador % 2 != 0:\n",
    "        continue\n",
    "\n",
    "    # Esta línea solo se ejecutará si el 'continue' no fue activado (es decir, si el número es par).\n",
    "    print(f'El número {contador} es par.')\n"
   ]
  },
  {
   "cell_type": "markdown",
   "id": "e4f0985f",
   "metadata": {},
   "source": [
    "## Finalización de una iteración o ciclo con `break`.\n",
    "\n",
    "La palabra clave `break` termina por completo un ciclo o iteración y vuelve al flujo de ejecución normal."
   ]
  },
  {
   "cell_type": "code",
   "execution_count": null,
   "id": "07e90495",
   "metadata": {},
   "outputs": [],
   "source": [
    "contador = 0\n",
    "\n",
    "print('''Inicia el ciclo...\n",
    "---''')\n",
    "# Este es un ciclo infinito.\n",
    "while True:\n",
    "    contador += 1\n",
    "    print(contador)\n",
    "    # El ciclo termina cuando contador es 5.\n",
    "    if contador >= 5:\n",
    "        break\n",
    "\n",
    "print('''--- \n",
    "... Fin del ciclo.''')"
   ]
  },
  {
   "cell_type": "markdown",
   "id": "65cfbfa8",
   "metadata": {},
   "source": [
    "## Demostraciones ilustrativas."
   ]
  },
  {
   "cell_type": "code",
   "execution_count": null,
   "id": "c91d8910",
   "metadata": {},
   "outputs": [],
   "source": [
    "print(\"=== Demo: Bucles Básicos ===\")\n",
    "    \n",
    "# Ejemplo 1: Bucle for con lista\n",
    "print(\"\\nProcesando ventas diarias:\")\n",
    "ventas_diarias = [120, 150, 80, 200, 95]\n",
    "total = 0\n",
    "    \n",
    "for venta in ventas_diarias:\n",
    "    total += venta\n",
    "    print(f\"Venta: ${venta} | Acumulado: ${total}\")\n",
    "    \n",
    "# Ejemplo 2: Bucle while con contador\n",
    "print(\"\\nConteo regresivo de inventario:\")\n",
    "stock = 5\n",
    "    \n",
    "while stock > 0:\n",
    "    print(f\"Quedan {stock} unidades en stock\")\n",
    "    stock -= 1\n",
    "print(\"¡Inventario agotado!\")"
   ]
  },
  {
   "cell_type": "code",
   "execution_count": null,
   "id": "2c73c051",
   "metadata": {},
   "outputs": [],
   "source": [
    "print(\"=== Demo: Técnicas de Iteración ===\")\n",
    "    \n",
    "# Ejemplo 1: Enumerate para índices\n",
    "productos = [\"Laptop\", \"Mouse\", \"Teclado\", \"Monitor\"]\n",
    "print(\"\\nListado de productos:\")\n",
    "    \n",
    "for indice, producto in enumerate(productos, 1):\n",
    "    print(f\"{indice}. {producto}\")\n",
    "    \n",
    "# Ejemplo 2: Break y Continue\n",
    "print(\"\\nBuscando productos en oferta:\")\n",
    "precios = [100, 25, 80, 15, 200, 30]\n",
    "limite_oferta = 50\n",
    "    \n",
    "for precio in precios:\n",
    "    if precio > limite_oferta:\n",
    "        continue\n",
    "    print(f\"¡Oferta encontrada! Precio: ${precio}\")\n",
    "      \n",
    "    if len([p for p in precios if p <= limite_oferta]) >= 3:\n",
    "        print(\"¡Suficientes ofertas encontradas!\")\n",
    "        break"
   ]
  }
 ],
 "metadata": {
  "kernelspec": {
   "display_name": "py3",
   "language": "python",
   "name": "python3"
  },
  "language_info": {
   "codemirror_mode": {
    "name": "ipython",
    "version": 3
   },
   "file_extension": ".py",
   "mimetype": "text/x-python",
   "name": "python",
   "nbconvert_exporter": "python",
   "pygments_lexer": "ipython3",
   "version": "3.12.3"
  }
 },
 "nbformat": 4,
 "nbformat_minor": 5
}
