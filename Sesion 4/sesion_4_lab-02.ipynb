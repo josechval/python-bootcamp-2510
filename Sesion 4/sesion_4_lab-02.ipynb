{
 "cells": [
  {
   "cell_type": "markdown",
   "id": "3bf5cd34",
   "metadata": {},
   "source": [
    "# Sesión 4 - Laboratorio 2:  Filtrado de Datos\n",
    "Objetivo: Practicar filtrado de datos usando bucles y condiciones"
   ]
  },
  {
   "cell_type": "markdown",
   "id": "38c80a54",
   "metadata": {},
   "source": [
    "El código debe filtrar productos según múltiples criterios:\n",
    "1. Precio dentro de un rango (min_precio, max_precio)\n",
    "2. Stock disponible mayor a 0\n",
    "3. Categoría específica"
   ]
  },
  {
   "cell_type": "code",
   "execution_count": null,
   "id": "c7a326d1",
   "metadata": {},
   "outputs": [],
   "source": [
    "# Casos de prueba:\n",
    "productos = [\n",
    "        {\"nombre\": \"Laptop\", \"precio\": 1200, \"stock\": 5, \"categoria\": \"Electrónica\"},\n",
    "        {\"nombre\": \"Mouse\", \"precio\": 25, \"stock\": 10, \"categoria\": \"Electrónica\"},\n",
    "        {\"nombre\": \"Libro\", \"precio\": 30, \"stock\": 0, \"categoria\": \"Libros\"},\n",
    "        {\"nombre\": \"Monitor\", \"precio\": 300, \"stock\": 3, \"categoria\": \"Electrónica\"}\n",
    "    ]"
   ]
  },
  {
   "cell_type": "markdown",
   "id": "e3e6b499",
   "metadata": {},
   "source": [
    "# Criterios de filtrado\n",
    "* productos (list): Lista de diccionarios con información de productos\n",
    "* min_precio (float): Precio mínimo a considerar\n",
    "* max_precio (float): Precio máximo a considerar\n",
    "* categoria (str): Categoría de productos a filtrar"
   ]
  },
  {
   "cell_type": "code",
   "execution_count": null,
   "id": "85e2bcc7",
   "metadata": {},
   "outputs": [],
   "source": [
    "# Criterios de selección de productos\n",
    "min_precio = 20\n",
    "max_precio = 500\n",
    "categoria = \"Electrónica\""
   ]
  },
  {
   "cell_type": "code",
   "execution_count": null,
   "id": "01ea30e9",
   "metadata": {},
   "outputs": [],
   "source": [
    "# 1. Crear una lista vacía para los productos filtrados\n",
    "\n",
    "filtrados = # TODO"
   ]
  },
  {
   "cell_type": "code",
   "execution_count": null,
   "id": "b4333be6",
   "metadata": {},
   "outputs": [],
   "source": [
    "# 2. Recorrer la lista de productos y por cada uno:\n",
    "    #    - Verificar que el precio esté en el rango\n",
    "    #    - Verificar que haya stock disponible\n",
    "    #    - Verificar que sea de la categoría solicitada\n",
    "    #    Si cumple todos los criterios, agregarlo a la lista filtrada\n",
    "\n",
    "for item in productos:\n",
    "    if item[# TODO] <= max_precio and item[# TODO] >= min_precio and item[# TODO] == categoria and item[# TODO] > 0:\n",
    "        filtrados.append(item)"
   ]
  },
  {
   "cell_type": "code",
   "execution_count": null,
   "id": "b94ca5b6",
   "metadata": {},
   "outputs": [],
   "source": [
    "# 3. Desplegar la lista de productos filtrados\n",
    "print(\"\\nProductos que cumplen los criterios:\")\n",
    "for producto in filtrados:\n",
    "    print(f\"- {producto['nombre']} (${producto['precio']}, Stock: {producto['stock']})\")"
   ]
  }
 ],
 "metadata": {
  "kernelspec": {
   "display_name": "Python 3",
   "language": "python",
   "name": "python3"
  },
  "language_info": {
   "codemirror_mode": {
    "name": "ipython",
    "version": 3
   },
   "file_extension": ".py",
   "mimetype": "text/x-python",
   "name": "python",
   "nbconvert_exporter": "python",
   "pygments_lexer": "ipython3",
   "version": "3.12.1"
  }
 },
 "nbformat": 4,
 "nbformat_minor": 5
}
