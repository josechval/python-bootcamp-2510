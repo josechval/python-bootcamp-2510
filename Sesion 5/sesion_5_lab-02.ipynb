{
 "cells": [
  {
   "cell_type": "markdown",
   "id": "0e103d81",
   "metadata": {},
   "source": [
    "# Sesión 5- Laboratorio 2: Procesador de Ventas\n",
    "Objetivo: Practicar funciones avanzadas y manipulación de datos\n",
    "\n",
    "La función debe:\n",
    "1. Procesar una lista de ventas con args\n",
    "2. Aplicar diferentes análisis según kwargs\n",
    "3. Retornar un diccionario con los resultados"
   ]
  },
  {
   "cell_type": "code",
   "execution_count": null,
   "id": "8baea005",
   "metadata": {},
   "outputs": [],
   "source": [
    "def procesar_ventas(*args, **kwargs):\n",
    "    \"\"\"\n",
    "    Procesa una lista de ventas y realiza análisis según los parámetros\n",
    "    Args:\n",
    "        *args: Lista de montos de ventas\n",
    "        **kwargs: Opciones de análisis (calcular_total, encontrar_maximo, etc.)\n",
    "    Returns:\n",
    "        dict: Resultados de los análisis solicitados\n",
    "\n",
    "    \"\"\"\n",
    "    # TODO: Implementar el procesamiento siguiendo estos pasos:\n",
    "    # 1. Validar que haya ventas para procesar\n",
    "    # 2. Crear diccionario para resultados\n",
    "    # 3. Si kwargs['calcular_total']: calcular suma total\n",
    "    # 4. Si kwargs['encontrar_maximo']: encontrar venta máxima\n",
    "    # 5. Si kwargs['contar_superiores']: contar ventas > umbral\n",
    "\n",
    "    # Valida si hay elementos en el parámentro args\n",
    "    if args:\n",
    "        # Inicializa el diccionario 'resultado'\n",
    "        resultado = {}\n",
    "\n",
    "        # Valida si existe la clave 'calcular_total' en el parámetro kwargs \n",
    "        # y si su valor corresponde a 'True' \n",
    "        if 'calcular_total' in kwargs and kwargs['calcular_total']:\n",
    "            resultado[\"suma total\"] = sum(args)\n",
    "\n",
    "        # Valida si existe la clave 'encontrar_maximo' en el parámetro kwargs \n",
    "        # y si su valor corresponde a 'True'\n",
    "        if 'encontrar_maximo' in kwargs and kwargs['encontrar_maximo']:\n",
    "            resultado[\"venta máxima\"] = max(args)\n",
    "\n",
    "        # Valida si existe la clave 'contar_superiores' en el parámetro kwargs, \n",
    "        #  si su valor corresponde a 'True' y si también existe la clave 'umbral'\n",
    "\n",
    "        if 'contar_superiores' in kwargs and kwargs['contar_superiores'] and 'umbral' in kwargs:\n",
    "             # Se utiliza completado de listas para obtener los valores de 'ventas' \n",
    "             # por encima del valor de kwargs['umbral'].\n",
    "             resultado[\"ventas sobre el umbral\"] = len([venta for venta in args if venta > kwargs['umbral']])\n",
    "             \n",
    "        return resultado\n",
    "    else:\n",
    "        return {\"error\": \"No hay ventas para procesar\"}\n",
    "\n",
    "\n",
    "    "
   ]
  },
  {
   "cell_type": "code",
   "execution_count": null,
   "id": "b1e3c548",
   "metadata": {},
   "outputs": [],
   "source": [
    "help(procesar_ventas)"
   ]
  },
  {
   "cell_type": "code",
   "execution_count": null,
   "id": "422522ce",
   "metadata": {},
   "outputs": [],
   "source": [
    "def main():\n",
    "    # Casos de prueba\n",
    "    ventas = [100, 200, 300, 150, 250]\n",
    "    \n",
    "    print(\"=== Procesador de Ventas ===\")\n",
    "    print(f\"Ventas a procesar: {ventas}\")\n",
    "    \n",
    "    # Caso 1: Calcular total y máximo\n",
    "    resultado1 = procesar_ventas(*ventas, calcular_total=True, encontrar_maximo=True)\n",
    "    print(\"\\nCaso 1 - Total y Máximo:\")\n",
    "    print(f\"Resultados: {resultado1}\")\n",
    "    \n",
    "    # Caso 2: Contar ventas superiores\n",
    "    resultado2 = procesar_ventas(*ventas, contar_superiores=True, umbral=200)\n",
    "    print(\"\\nCaso 2 - Ventas superiores a $200:\")\n",
    "    print(f\"Resultados: {resultado2}\")"
   ]
  },
  {
   "cell_type": "code",
   "execution_count": null,
   "id": "ad97cdc3",
   "metadata": {},
   "outputs": [],
   "source": [
    "if __name__ == \"__main__\":\n",
    "    main()"
   ]
  },
  {
   "cell_type": "code",
   "execution_count": null,
   "id": "bf42617d",
   "metadata": {},
   "outputs": [],
   "source": []
  }
 ],
 "metadata": {
  "kernelspec": {
   "display_name": "Python 3",
   "language": "python",
   "name": "python3"
  },
  "language_info": {
   "codemirror_mode": {
    "name": "ipython",
    "version": 3
   },
   "file_extension": ".py",
   "mimetype": "text/x-python",
   "name": "python",
   "nbconvert_exporter": "python",
   "pygments_lexer": "ipython3",
   "version": "3.12.1"
  }
 },
 "nbformat": 4,
 "nbformat_minor": 5
}
