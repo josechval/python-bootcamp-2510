{
 "cells": [
  {
   "cell_type": "markdown",
   "id": "eea44aa8",
   "metadata": {},
   "source": [
    "# Sesión 5 - Programación de funciones, empaquetamiento y completado de listas"
   ]
  },
  {
   "cell_type": "markdown",
   "id": "92d0c547",
   "metadata": {},
   "source": [
    "## Funciones básicas"
   ]
  },
  {
   "cell_type": "markdown",
   "id": "66d79f80",
   "metadata": {},
   "source": [
    "La siguiente función desplegará un mensaje de bienvenida cada vez que sea llamada."
   ]
  },
  {
   "cell_type": "code",
   "execution_count": null,
   "id": "e5baaa60",
   "metadata": {},
   "outputs": [],
   "source": [
    "def bienvenida():\n",
    "    \"\"\"Función que despliega un mensaje.\"\"\"\n",
    "    print(\"¡Bienvenido al curso de Python!\")"
   ]
  },
  {
   "cell_type": "markdown",
   "id": "c3d5a558",
   "metadata": {},
   "source": [
    "Invocación de una función."
   ]
  },
  {
   "cell_type": "code",
   "execution_count": null,
   "id": "f50af227",
   "metadata": {},
   "outputs": [],
   "source": [
    "bienvenida()"
   ]
  },
  {
   "cell_type": "markdown",
   "id": "24052bcb",
   "metadata": {},
   "source": [
    "El texto de una *docstring* que se coloca después de definir una función se vuelve parte de la función y puede ser consultado con la función `help()`."
   ]
  },
  {
   "cell_type": "code",
   "execution_count": null,
   "id": "47331676",
   "metadata": {},
   "outputs": [],
   "source": [
    "help(bienvenida)"
   ]
  },
  {
   "cell_type": "markdown",
   "id": "c47856ac",
   "metadata": {},
   "source": [
    "La palabra clave `return` regresa el valor de una expresión al finalizar la ejecución de una función.\n",
    "A este valor se le conoce como el valor de retorno de la función."
   ]
  },
  {
   "cell_type": "code",
   "execution_count": null,
   "id": "63b7b6fd",
   "metadata": {},
   "outputs": [],
   "source": [
    "def suma():\n",
    "    \"\"\"\n",
    "    Función que regresa el resultado de las sumas de las variables a y b\n",
    "    \"\"\"\n",
    "    a = 5\n",
    "    print(f'El valor de a es {a}')\n",
    "    b = 3\n",
    "    print(f'El valor de b es {b}')\n",
    "    ## La palabra clave return regesa el valor de una expresión\n",
    "    return a + b"
   ]
  },
  {
   "cell_type": "code",
   "execution_count": null,
   "id": "1ca17c8a",
   "metadata": {},
   "outputs": [],
   "source": [
    "suma()"
   ]
  },
  {
   "cell_type": "markdown",
   "id": "bdc17a21",
   "metadata": {},
   "source": [
    "Los datos que regresa una función pueden ser asignados a variables."
   ]
  },
  {
   "cell_type": "code",
   "execution_count": null,
   "id": "181d455f",
   "metadata": {},
   "outputs": [],
   "source": [
    "resultado_suma = suma()\n",
    "print('----')\n",
    "print(f'El resultado de la suma es {resultado_suma}')"
   ]
  },
  {
   "cell_type": "markdown",
   "id": "98a63f2f",
   "metadata": {},
   "source": [
    "Si una función no tiene una sentencia `return`, la función regresa el valor especial `None`."
   ]
  },
  {
   "cell_type": "code",
   "execution_count": null,
   "id": "d5681d0b",
   "metadata": {},
   "outputs": [],
   "source": [
    "resultado_bienvenida = bienvenida()\n",
    "print('---')\n",
    "print(resultado_bienvenida)"
   ]
  },
  {
   "cell_type": "markdown",
   "id": "473681ef",
   "metadata": {},
   "source": [
    "### Ámbito de las funciones."
   ]
  },
  {
   "cell_type": "markdown",
   "id": "614cf7a2",
   "metadata": {},
   "source": [
    "* Las variables definidas dentro de una función son locales a la función y no pueden ser accedidas desde fuera de la función.\n",
    "* A esto se le conoce como el ámbito de las variables (variable scope)."
   ]
  },
  {
   "cell_type": "code",
   "execution_count": null,
   "id": "b7531fdf",
   "metadata": {},
   "outputs": [],
   "source": [
    "# Se invocará a la función \"suma()\" definida previamente.\n",
    "suma()\n",
    "\n",
    "# Se generará un error de tipo NameError, ya que la variable 'a' no está definida fuera de la función suma()\n",
    "print(f'El valor de a es {a}')"
   ]
  },
  {
   "cell_type": "markdown",
   "id": "2f2cbd29",
   "metadata": {},
   "source": [
    "\n",
    "Las funciones pueden usar variables de ámbitos superiores. \n",
    "* Al ámbito de un programa se le conoce como el ámbito global.\n",
    "* Al ámbito dentro de una función se le conoce como el ámbito local.\n",
    "* En caso de que una variable esté definida en ambos ámbitos, la variable local tendrá preferencia sobre la variable global.\n",
    "* En caso de que una variable no esté definida en el ámbito local, Python buscará la variable en el ámbito global.\n",
    "* En caso de que una variable no esté definida en ninguno de los dos ámbitos, se generará un error `NameError`."
   ]
  },
  {
   "cell_type": "code",
   "execution_count": null,
   "id": "04c3253a",
   "metadata": {},
   "outputs": [],
   "source": [
    "# La variable global 'a' no se empalma con la variable local 'a' de la función 'suma()'.\n",
    "a = \"hola\"\n",
    "suma()\n",
    "print(a)"
   ]
  },
  {
   "cell_type": "markdown",
   "id": "bd2a1e87",
   "metadata": {},
   "source": [
    "Se pueden definir funciones que usen variables de ámbitos superiores."
   ]
  },
  {
   "cell_type": "code",
   "execution_count": null,
   "id": "82c97950",
   "metadata": {},
   "outputs": [],
   "source": [
    "def saluda_nombre():\n",
    "    \"\"\"Función que toma el valor de la variable 'nombre' de un ámbito superior.\"\"\"\n",
    "    apellido = \"Gómez\"\n",
    "    return f\"Hola, {nombre} {apellido}\""
   ]
  },
  {
   "cell_type": "code",
   "execution_count": null,
   "id": "b3170503",
   "metadata": {},
   "outputs": [],
   "source": [
    "nombre = \"Juan\"\n",
    "apellido = \"Pérez\""
   ]
  },
  {
   "cell_type": "code",
   "execution_count": null,
   "id": "8a48e944",
   "metadata": {},
   "outputs": [],
   "source": [
    "# La variable global \"nombre\" será usada por la función \"saluda_nombre()\"\n",
    "# Del mismo modo, la variable local \"apellido\" será usada por la función \"saluda_nombre()\"\n",
    "saludo = saluda_nombre()\n",
    "print(saludo)"
   ]
  },
  {
   "cell_type": "code",
   "execution_count": null,
   "id": "494f3f27",
   "metadata": {},
   "outputs": [],
   "source": [
    "print(apellido)"
   ]
  },
  {
   "cell_type": "markdown",
   "id": "bff5eb3b",
   "metadata": {},
   "source": [
    "### Parámetros y argumentos de funciones"
   ]
  },
  {
   "cell_type": "markdown",
   "id": "3734778b",
   "metadata": {},
   "source": [
    "Es posible definir funciones que acepten parámetros, los cuales son variables que se definen en la declaración de la función."
   ]
  },
  {
   "cell_type": "code",
   "execution_count": null,
   "id": "9674901d",
   "metadata": {},
   "outputs": [],
   "source": [
    "def calcular_total(precio, cantidad):\n",
    "        \"\"\"Esta función define los parámetros 'precio' y 'cantidad'\n",
    "        y regresará el resultado de su multiplicación.\"\"\"\n",
    "        print(f\"Precio: {precio}\")\n",
    "        print(f\"Cantidad: {cantidad} \" )\n",
    "        return precio * cantidad"
   ]
  },
  {
   "cell_type": "markdown",
   "id": "f3a922bc",
   "metadata": {},
   "source": [
    "Siempre se debe proporcionar un argumento para cada parámetro de la función, a menos que el parámetro tenga un valor por defecto."
   ]
  },
  {
   "cell_type": "code",
   "execution_count": null,
   "id": "66874d27",
   "metadata": {},
   "outputs": [],
   "source": [
    "# Se invocará a la función 'calcular()' con dos aregumentos.\n",
    "calcular_total(1, 7)"
   ]
  },
  {
   "cell_type": "markdown",
   "id": "6954849f",
   "metadata": {},
   "source": [
    "Los argumentos pueden ser pasados a una función por posición o por nombre."
   ]
  },
  {
   "cell_type": "code",
   "execution_count": null,
   "id": "aacce5da",
   "metadata": {},
   "outputs": [],
   "source": [
    "# En este caso se asignan los valores de argumentos a cada parámetro por su nombre.\n",
    "calcular_total(cantidad=12, precio=1)"
   ]
  },
  {
   "cell_type": "code",
   "execution_count": null,
   "id": "1cebf606",
   "metadata": {},
   "outputs": [],
   "source": [
    "# En este caso, el primer argumento se asigna al primer parámetro y así sucesivamente.\n",
    "calcular_total(7, 6)"
   ]
  },
  {
   "cell_type": "markdown",
   "id": "72712195",
   "metadata": {},
   "source": [
    "Si no se proporciona un argumento para un parámetro que no tiene un valor por defecto, se genera un error de tipo `TypeError`."
   ]
  },
  {
   "cell_type": "code",
   "execution_count": null,
   "id": "867dc9f5",
   "metadata": {},
   "outputs": [],
   "source": [
    "# Se invocará la función sólo con un argumento. Esto provocará un error de tipo \"TypeError\". \n",
    "calcular_total(5)"
   ]
  },
  {
   "cell_type": "markdown",
   "id": "6c951fba",
   "metadata": {},
   "source": [
    "La definición de parámetros también es documentada."
   ]
  },
  {
   "cell_type": "code",
   "execution_count": null,
   "id": "02384525",
   "metadata": {},
   "outputs": [],
   "source": [
    "help(calcular_total)"
   ]
  },
  {
   "cell_type": "markdown",
   "id": "377e2e3f",
   "metadata": {},
   "source": [
    "Es posible asignar valores por defecto a los parámetros en la definición de una función."
   ]
  },
  {
   "cell_type": "code",
   "execution_count": null,
   "id": "e44fdf31",
   "metadata": {},
   "outputs": [],
   "source": [
    "def aplicar_descuento(precio, descuento=0.1):\n",
    "        '''Función en la que el parámetro 'descuento' \n",
    "        tiene un argumentom por defecto igual a 0.1.'''\n",
    "        return precio * (1 - descuento)"
   ]
  },
  {
   "cell_type": "code",
   "execution_count": null,
   "id": "13d46e36",
   "metadata": {},
   "outputs": [],
   "source": [
    "# Se invoca la función usando el valor por defecto del parámetro 'descuento'.\n",
    "aplicar_descuento(12)"
   ]
  },
  {
   "cell_type": "markdown",
   "id": "44cf5fcd",
   "metadata": {},
   "source": [
    "Los parámetros con valores por defecto deben ir al final de la lista de parámetros en la definición de la función."
   ]
  },
  {
   "cell_type": "code",
   "execution_count": null,
   "id": "c7b2fd31",
   "metadata": {},
   "outputs": [],
   "source": [
    "# Esta función generará un error de sintaxis por la incorrecta posición de los parámetros al definirla.\n",
    "def descuento(descuento=0.1, precio):\n",
    "        '''Función nen la que el parámetro 'descuento' \n",
    "        tiene un argumentomporoi defecto de 0.1.'''\n",
    "        return precio * (1 - descuento)"
   ]
  },
  {
   "cell_type": "markdown",
   "id": "c46cb847",
   "metadata": {},
   "source": [
    "### Asignación de un número arbitrario de argumentos a un parámetro."
   ]
  },
  {
   "cell_type": "markdown",
   "id": "62372ed3",
   "metadata": {},
   "source": [
    "#### Parámetro `*args`"
   ]
  },
  {
   "cell_type": "markdown",
   "id": "18c1a7e5",
   "metadata": {},
   "source": [
    "* Es posible definir un parámetro que acepte un número arbitrario de argumentos posicionales. Este parámetro debe ir precedido por un asterisco (`*`) en la definición de la función.\n",
    "* Por convención, este parámetro se llama `*args`, pero puede tener cualquier nombre. \n",
    "* El parámetro `*args` corresponde a una tupla que contiene todos los argumentos posicionales adicionales que se pasen a la función."
   ]
  },
  {
   "cell_type": "code",
   "execution_count": null,
   "id": "a1c09222",
   "metadata": {},
   "outputs": [],
   "source": [
    "def sumar_precios(*args):\n",
    "    \"\"\"El parámetro '*args'puede recibir más de un argumento\"\"\"\n",
    "    # La función \"sum()\" regresa la suma de los elementos dentro de un \n",
    "    # objeto iterable.   \n",
    "    return sum(args)"
   ]
  },
  {
   "cell_type": "code",
   "execution_count": null,
   "id": "639a08a9",
   "metadata": {},
   "outputs": [],
   "source": [
    "sumar_precios(1, 2, 3, 4)"
   ]
  },
  {
   "cell_type": "code",
   "execution_count": null,
   "id": "6353e9f3",
   "metadata": {},
   "outputs": [],
   "source": [
    "sumar_precios(11)"
   ]
  },
  {
   "cell_type": "code",
   "execution_count": null,
   "id": "b4273ad5",
   "metadata": {},
   "outputs": [],
   "source": [
    "sumar_precios()"
   ]
  },
  {
   "cell_type": "markdown",
   "id": "f1a1934c",
   "metadata": {},
   "source": [
    "#### Parámetro `**kwargs`."
   ]
  },
  {
   "cell_type": "markdown",
   "id": "1e46eda4",
   "metadata": {},
   "source": [
    "* Es posible definir un parámetro que acepte un número arbirtrario de argumentos nombrados. Este parámetro debe ir precedido por dos asteriscos (`**`) en la definición de la función.\n",
    "* Por convención, este parámetro se llama `**kwargs`, pero puede tener cualquier nombre.\n",
    "* El parámetro `**kwargs` corresponde a un diccionario que contiene todos los argumentos nombrados adicionales que se pasen a la función."
   ]
  },
  {
   "cell_type": "code",
   "execution_count": null,
   "id": "2c5a5734",
   "metadata": {},
   "outputs": [],
   "source": [
    "def crear_producto(**kwargs):\n",
    "    \"\"\"El parámetro '**kwargs' puede recibir más de un argumento nombrado\"\"\"\n",
    "    return kwargs"
   ]
  },
  {
   "cell_type": "code",
   "execution_count": null,
   "id": "83735632",
   "metadata": {},
   "outputs": [],
   "source": [
    "# La función regresará un diccionario con los argumentos nombrados que se ingresen.\n",
    "crear_producto(nombre=\"Laptop\", precio=1200, categoria=\"Electrónica\")"
   ]
  },
  {
   "cell_type": "markdown",
   "id": "03297abf",
   "metadata": {},
   "source": [
    "#### Desempaquetado de colecciones."
   ]
  },
  {
   "cell_type": "markdown",
   "id": "1b92fc76",
   "metadata": {},
   "source": [
    "Python permite desagregar las colecciones de datos en sus elementos mediante desempaquetado (unpacking)."
   ]
  },
  {
   "cell_type": "markdown",
   "id": "73ddc2ac",
   "metadata": {},
   "source": [
    "El desempaquetado puede ser usado en asignaciones múltiples. Sólo funciona si el número de variables a la izquierda es igual al número de elementos en la colección a la derecha."
   ]
  },
  {
   "cell_type": "code",
   "execution_count": null,
   "id": "0c030580",
   "metadata": {},
   "outputs": [],
   "source": [
    "# Se le asignará a cada variable el elemento en la posición correspondiente dentro de la lista.\n",
    "\n",
    "primero, segundo, tercero = [1, 2, 3]\n",
    "\n",
    "print(f'Primero : {primero}')\n",
    "print(f'Segundo : {segundo}')\n",
    "print(f'Tercero : {tercero}')"
   ]
  },
  {
   "cell_type": "code",
   "execution_count": null,
   "id": "dba43e55",
   "metadata": {},
   "outputs": [],
   "source": [
    "# Si el número de variables no corresponde al mismo número de elementos, se desencadenará \n",
    "# un error de tipo `ValueError`\n",
    "\n",
    "primero, segundo, tercero = [1, 2, 3, 4]"
   ]
  },
  {
   "cell_type": "markdown",
   "id": "6f3b39a9",
   "metadata": {},
   "source": [
    "Para desempaquetar una colección en una función, se usa el operador `*` para listas o tuplas y el operador `**` para diccionarios."
   ]
  },
  {
   "cell_type": "code",
   "execution_count": null,
   "id": "213c1a6b",
   "metadata": {},
   "outputs": [],
   "source": [
    "# Cada elemento de la lista \"precios\" se ingresará como un argumento de la \n",
    "# función \"sumar_precios()\".\n",
    "precios = (25, 12, 56, 39, 82, 23, 34)\n",
    "sumar_precios(*precios)"
   ]
  },
  {
   "cell_type": "code",
   "execution_count": null,
   "id": "d15a5be3",
   "metadata": {},
   "outputs": [],
   "source": [
    "# En caso de que no se realice el desempaquetamiento, la lista \"precios\" será ingresada \n",
    "# como un agrumento único y se generará un error de tipo \"TypeError\".\n",
    "sumar_precios(precios)"
   ]
  },
  {
   "cell_type": "code",
   "execution_count": null,
   "id": "35261cd3",
   "metadata": {},
   "outputs": [],
   "source": [
    "# Cada elemento del diccionario \"camisa_h\" se ingresará como un argumento \n",
    "# de la función \"crear_producto()\".\n",
    "camisa_h = {'id': 1022, 'concepto': 'Camisa para caballero', 'stock': 20, 'precio': 2500}\n",
    "crear_producto(**camisa_h)"
   ]
  },
  {
   "cell_type": "code",
   "execution_count": null,
   "id": "23963224",
   "metadata": {},
   "outputs": [],
   "source": [
    "def calcula_promedio(titulo, *args):\n",
    " return titulo, sum(args)/len(args)"
   ]
  },
  {
   "cell_type": "code",
   "execution_count": null,
   "id": "90d8e6a3",
   "metadata": {},
   "outputs": [],
   "source": [
    "titulo, promedio = calcula_promedio(\"Poblacion\", 43232,2355,5235,23523,41421)\n",
    "print(f\"Promedio de {titulo} es {promedio}.\")"
   ]
  },
  {
   "cell_type": "markdown",
   "id": "f00d2b50",
   "metadata": {},
   "source": [
    "### Funciones anidadas."
   ]
  },
  {
   "cell_type": "markdown",
   "id": "71265304",
   "metadata": {},
   "source": [
    "* Es posible definir funciones dentro de otras funciones. A estas funciones se les conoce como funciones anidadas o funciones internas.\n",
    "* Las funciones anidadas pueden acceder a las variables del ámbito de la función que las contiene."
   ]
  },
  {
   "cell_type": "code",
   "execution_count": null,
   "id": "0fa66ea0",
   "metadata": {},
   "outputs": [],
   "source": [
    "def calcular_descuentos(precios):\n",
    "        \"\"\"Función que aplica un descuento a una lista de productos.\"\"\"\n",
    "\n",
    "        def aplicar_descuento(precio):\n",
    "            \"\"\"Función que calcula el descuento.\"\"\"\n",
    "            # La variable \"porcentaje\" proviene del ámbito superior.\n",
    "            return precio * (1 - porcentaje)\n",
    "        \n",
    "        descuentos = []\n",
    "        for precio in precios:\n",
    "            if precio >= 100:\n",
    "                porcentaje = 0.2\n",
    "                descuentos.append(aplicar_descuento(precio))\n",
    "            else:\n",
    "                porcentaje = 0.1\n",
    "                descuentos.append(aplicar_descuento(precio))\n",
    "        return descuentos"
   ]
  },
  {
   "cell_type": "code",
   "execution_count": null,
   "id": "0609a940",
   "metadata": {},
   "outputs": [],
   "source": [
    "calcular_descuentos( [80, 120, 200])"
   ]
  },
  {
   "cell_type": "markdown",
   "id": "7533775c",
   "metadata": {},
   "source": [
    "### Funciones lambda."
   ]
  },
  {
   "cell_type": "markdown",
   "id": "5a32f1ab",
   "metadata": {},
   "source": [
    "Es posible deinir funciones lambda o anónimas (sin nombre) usando la palabra clave `lambda`.\n",
    "* La sintaxis de una función lambda es: `lambda <parámetros>: <expresión>`.\n",
    "* Las funciones lambda pueden tener cualquier número de parámetros, pero sólo una expresión."
   ]
  },
  {
   "cell_type": "code",
   "execution_count": null,
   "id": "bd4cae14",
   "metadata": {},
   "outputs": [],
   "source": [
    "\"\"\"\n",
    "La siguiente expresión es igual a:\n",
    "def sumatoria(x, y=3):\n",
    "    return x + y\n",
    "\"\"\"\n",
    "sumatoria = lambda x, y=3: x + y"
   ]
  },
  {
   "cell_type": "code",
   "execution_count": null,
   "id": "ac42b777",
   "metadata": {},
   "outputs": [],
   "source": [
    "sumatoria(2, 3)"
   ]
  },
  {
   "cell_type": "code",
   "execution_count": null,
   "id": "bd23ed0f",
   "metadata": {},
   "outputs": [],
   "source": [
    "help(sumatoria)"
   ]
  },
  {
   "cell_type": "markdown",
   "id": "ac38cf5e",
   "metadata": {},
   "source": [
    "## Completado de listas."
   ]
  },
  {
   "cell_type": "markdown",
   "id": "296cfb72",
   "metadata": {},
   "source": [
    "Python permite crear listas de manera concisa usando una sintaxis especial conocida como completado de listas (list comprehension).\n",
    "* El completado de listas puede incluir una o más cláusulas `for` y una o más cláusulas `if`.\n",
    "* El completado de listas puede ser usado para transformar los elementos de una lista o para filtrar los elementos de una lista."
   ]
  },
  {
   "cell_type": "code",
   "execution_count": null,
   "id": "c7b6dbff",
   "metadata": {},
   "outputs": [],
   "source": [
    "numeros = [1, 2, 3, 4, 5, 6, 7, 8, 9]"
   ]
  },
  {
   "cell_type": "code",
   "execution_count": null,
   "id": "ea04ebe0",
   "metadata": {},
   "outputs": [],
   "source": [
    "# Se creará una nueva lista de números pares a partir de \n",
    "# los elementos de la lista \"numeros\"\n",
    "lista_pares = [numero for numero in numeros if numero % 2 == 0]\n",
    "print(lista_pares)"
   ]
  },
  {
   "cell_type": "code",
   "execution_count": null,
   "id": "168c1ae5",
   "metadata": {},
   "outputs": [],
   "source": [
    "# Se creará una nueva lista de números pares multiplicados por\n",
    "# dos a partir de los elementos de la lista \"numeros\"\n",
    "lista_doble_pares = [numero * 2 for numero in numeros if numero % 2 == 0]\n",
    "print(lista_doble_pares)"
   ]
  },
  {
   "cell_type": "markdown",
   "id": "b3faa3ed",
   "metadata": {},
   "source": [
    "## Expresiones ternarias."
   ]
  },
  {
   "cell_type": "markdown",
   "id": "89c63183",
   "metadata": {},
   "source": [
    "Python permite definir expresiones condicionales en una sola línea de código. A estas expresiones se les conoce como expresiones ternarias.\n",
    "* La sintaxis de una expresión ternaria es: `<valor_si_verdadero> if <condición> else <valor_si_falso>`.\n",
    "* Las expresiones ternarias pueden ser usadas para asignar valores a variables o para regresar valores desde funciones."
   ]
  },
  {
   "cell_type": "code",
   "execution_count": null,
   "id": "91f73c65",
   "metadata": {},
   "outputs": [],
   "source": [
    "numero = 2\n",
    "\n",
    "# Evalá si un número es par.\n",
    "numero_tipo = 'par' if numero % 2 == 0 else 'non'\n",
    "\n",
    "print(f\"El número {numero} es {numero_tipo}.\")"
   ]
  },
  {
   "cell_type": "code",
   "execution_count": null,
   "id": "85e2866c",
   "metadata": {},
   "outputs": [],
   "source": [
    "# Expresión ternaria y completado de listas.\n",
    "lista_pares_nones = ['par' if numero % 2 == 0 else 'non' for numero in numeros]\n",
    "\n",
    "print(lista_pares_nones)"
   ]
  }
 ],
 "metadata": {
  "kernelspec": {
   "display_name": "base",
   "language": "python",
   "name": "python3"
  },
  "language_info": {
   "codemirror_mode": {
    "name": "ipython",
    "version": 3
   },
   "file_extension": ".py",
   "mimetype": "text/x-python",
   "name": "python",
   "nbconvert_exporter": "python",
   "pygments_lexer": "ipython3",
   "version": "3.13.5"
  }
 },
 "nbformat": 4,
 "nbformat_minor": 5
}
