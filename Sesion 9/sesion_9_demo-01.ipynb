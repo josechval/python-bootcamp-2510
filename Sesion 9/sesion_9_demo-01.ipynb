{
 "cells": [
  {
   "cell_type": "markdown",
   "id": "1fc28db9",
   "metadata": {},
   "source": [
    "# Sesión 9 - Demo 1 - Escritura y lectura de archivos\n"
   ]
  },
  {
   "cell_type": "markdown",
   "id": "27fb0d52",
   "metadata": {},
   "source": [
    "## La función `open()`.\n",
    "\n",
    "La función `open()` es la función integrada de Python que se utiliza para abrir archivos. Esta función devuelve un objeto de archivo, que se puede utilizar para leer o escribir en el archivo, dependiendo del modo en que se haya abierto.\n",
    "\n",
    "`open(<ruta>, <modo>)`\n",
    "\n",
    "Donde:\n",
    "- `<ruta>`: Es la ruta del archivo que se desea abrir. Puede ser una ruta absoluta o relativa.\n",
    "- `<modo>`: Es una cadena que indica el modo en que se desea abrir el archivo. Los modos más comunes son:\n",
    "  - `'r'`: Modo de lectura (por defecto). El archivo debe existir.\n",
    "  - `'w'`: Modo de escritura. Si el archivo ya existe, se sobrescribe. Si no existe, se crea uno nuevo.\n",
    "  - `'a'`: Modo de anexado. Si el archivo ya existe, se abre para agregar contenido al final. Si no existe, se crea uno nuevo.\n",
    "  - `'b'`: Modo binario. Se utiliza junto con otros modos (por ejemplo, `'rb' o `'wb'`) para leer o escribir archivos en formato binario.\n",
    "  - `'t': Modo de texto (por defecto). Se utiliza junto con otros modos (por ejemplo, `'rt' o `'wt'`) para leer o escribir archivos en formato de texto."
   ]
  },
  {
   "cell_type": "markdown",
   "id": "e3ccd564",
   "metadata": {},
   "source": [
    "## Objetos de archivo.\n",
    "\n",
    "Un objeto de archivo en Python es una instancia de la clase `file` que se crea cuando se abre un archivo utilizando la función `open()`. Este objeto proporciona varios métodos y atributos que permiten interactuar con el archivo, como leer, escribir, cerrar, etc.\n",
    "\n",
    "### Métodos comunes de los objetos de archivo.\n",
    "- `read(size=-1)`: Lee y devuelve hasta `size` bytes del archivo. Si `size` no se especifica o es negativo, lee todo el archivo.\n",
    "- `readline(size=-1)`: Lee y devuelve una línea del archivo. Si `size` se especifica, lee hasta `size` bytes de la línea.\n",
    "- `readlines()`: Lee todas las líneas del archivo y las devuelve como una lista de cadenas.\n",
    "- `write(string)`: Escribe la cadena `string` en el archivo.\n",
    "- `writelines(lines)`: Escribe una lista de cadenas `lines` en el archivo.\n",
    "- `close()`: Cierra el archivo. Es importante cerrar el archivo después de terminar de trabajar con él para liberar recursos."
   ]
  },
  {
   "cell_type": "markdown",
   "id": "947f3c9e",
   "metadata": {},
   "source": [
    "## La función `open()` dentro de un bloque `with`.\n",
    "\n",
    "Usar la función `open()` dentro de un bloque `with` es una práctica recomendada en Python para manejar archivos. El bloque `with` asegura que el archivo se cierre automáticamente cuando se sale del bloque, incluso si ocurre una excepción durante la operación de archivo. Esto ayuda a prevenir fugas de recursos y garantiza que el archivo se maneje de manera segura."
   ]
  },
  {
   "cell_type": "markdown",
   "id": "b9e91156",
   "metadata": {},
   "source": [
    "## Ejemplos demostrativos."
   ]
  },
  {
   "cell_type": "code",
   "execution_count": null,
   "id": "40001467",
   "metadata": {},
   "outputs": [],
   "source": [
    "# Ejemplo 1: Escribir en un archivo\n",
    "print(\"\\n1. Escribiendo en un archivo:\")\n",
    "try:\n",
    "    with open(\"ventas.txt\", \"w\") as archivo:\n",
    "        archivo.write(\"Laptop,1200\\n\")\n",
    "        archivo.write(\"Smartphone,800\\n\")\n",
    "        archivo.write(\"Tablet,500\\n\")\n",
    "    print(\"Archivo creado exitosamente\")\n",
    "except IOError as e:\n",
    "    print(f\"Error al escribir archivo: {e}\")"
   ]
  },
  {
   "cell_type": "code",
   "execution_count": null,
   "id": "5ab66cc8",
   "metadata": {},
   "outputs": [],
   "source": [
    "# Ejemplo 2: Leer un archivo completo\n",
    "print(\"\\n2. Leyendo archivo completo:\")\n",
    "try:\n",
    "    with open(\"ventas.txt\", \"r\") as archivo:\n",
    "        contenido = archivo.read()\n",
    "        print(\"Contenido del archivo:\")\n",
    "        print(contenido)\n",
    "except IOError as e:\n",
    "    print(f\"Error al leer archivo: {e}\")"
   ]
  },
  {
   "cell_type": "code",
   "execution_count": null,
   "id": "05dfcb8f",
   "metadata": {},
   "outputs": [],
   "source": [
    "# Ejemplo 3: Leer archivo línea por línea\n",
    "print(\"\\n3. Leyendo archivo línea por línea:\")\n",
    "try:\n",
    "    with open(\"ventas.txt\", \"r\") as archivo:\n",
    "        print(\"Procesando ventas:\")\n",
    "        total = 0\n",
    "        for linea in archivo:\n",
    "            producto, precio = linea.strip().split(\",\")\n",
    "            total += float(precio)\n",
    "            print(f\"- {producto}: ${precio}\")\n",
    "        print(f\"Total de ventas: ${total}\")\n",
    "except IOError as e:\n",
    "    print(f\"Error al procesar archivo: {e}\")"
   ]
  },
  {
   "cell_type": "code",
   "execution_count": null,
   "id": "355c1e97",
   "metadata": {},
   "outputs": [],
   "source": [
    "# Ejemplo 4: Agregar contenido al archivo\n",
    "print(\"\\n4. Agregando contenido al archivo:\")\n",
    "try:\n",
    "    with open(\"ventas.txt\", \"a\") as archivo:\n",
    "        archivo.write(\"Auriculares,100\\n\")\n",
    "    print(\"Contenido agregado exitosamente\")\n",
    "        \n",
    "    # Mostrar archivo actualizado\n",
    "    with open(\"ventas.txt\", \"r\") as archivo:\n",
    "        print(\"Archivo actualizado:\")\n",
    "        print(archivo.read())\n",
    "except IOError as e:\n",
    "    print(f\"Error al actualizar archivo: {e}\")"
   ]
  }
 ],
 "metadata": {
  "kernelspec": {
   "display_name": "py3",
   "language": "python",
   "name": "python3"
  },
  "language_info": {
   "codemirror_mode": {
    "name": "ipython",
    "version": 3
   },
   "file_extension": ".py",
   "mimetype": "text/x-python",
   "name": "python",
   "nbconvert_exporter": "python",
   "pygments_lexer": "ipython3",
   "version": "3.12.3"
  }
 },
 "nbformat": 4,
 "nbformat_minor": 5
}
