{
 "cells": [
  {
   "cell_type": "markdown",
   "id": "e5277e7f",
   "metadata": {},
   "source": [
    "# Sesión 9 - Demo 2 - Tipos de Archivo."
   ]
  },
  {
   "cell_type": "markdown",
   "id": "2430f0dc",
   "metadata": {},
   "source": [
    "Python cuenta con bibliotecas capaces de gestionar tipos de archivos como CSV y JSON una vez que estos son extraídos de sus fuentes. Los paquetes `csv` y `json` forman paerte de la biblioteca estándar de Python y pueden se utilizados con los objetos `file` para extraer y guardar información en dicchos formatos."
   ]
  },
  {
   "cell_type": "code",
   "execution_count": null,
   "id": "e7efc20b",
   "metadata": {},
   "outputs": [],
   "source": [
    "import csv\n",
    "import json"
   ]
  },
  {
   "cell_type": "markdown",
   "id": "2dd5d050",
   "metadata": {},
   "source": [
    "## El paquete `csv`.\n",
    "\n",
    "Este paquete cuento con herramientas para lectura y escritura de archivos CSV que utilizan diversos esparadores y dialectos, como el de Excel."
   ]
  },
  {
   "cell_type": "markdown",
   "id": "8395f588",
   "metadata": {},
   "source": [
    "### La función `csv.writter()`.\n",
    "\n",
    "La clase `csv.writer()` permite crear objetos capaces de escribir en las fuentes.\n",
    "```\n",
    "csv.writer(<f>, delimiter=<d>, encoding=<e>)\n",
    "```\n",
    "\n",
    "Donde:\n",
    " - `<f>` es un objeto en el que se pueden realizar operaciones de escritura.\n",
    " - `delimiter` es un carácter que se utiliza para separar los campos en el archivo CSV. El valor predeterminado es la coma (`','`).\n",
    " - `encoding` es la codificación de caracteres que se utilizará para escribir en el archivo. El valor predeterminado es `'utf-8.'`.\n",
    "\n",
    "Los objetos creados por `csv.witter()` cuentan con los siguientes métodos:\n",
    "* `writerow()`: el cual permite escribir una fila en el archivo *csv* a partir de una colección secuencial (listas o tuplas) que se ingresa como argumento.\n",
    "* `witerows()`: el cual permite escribir varias filas a partir de una colección secuencial que a su vez contiene colecciones secuenciales.\n"
   ]
  },
  {
   "cell_type": "code",
   "execution_count": null,
   "id": "e87b85ea",
   "metadata": {},
   "outputs": [],
   "source": [
    "with open(\"ejemplo.csv\", \"w\", encoding=\"utf-8\") as f:\n",
    "    writer = csv.writer(f)\n",
    "    writer.writerow(\n",
    "        ['Nombre',\n",
    "         'Clave',\n",
    "         'Descripción',\n",
    "         'Precio',\n",
    "         'Stock']\n",
    "         )\n",
    "    writer.writerow(\n",
    "        ['Laptop X1',\n",
    "         'ltpx1001',\n",
    "         'Laptop de 15 pulgadas procesador premium',\n",
    "         10000,\n",
    "         12]\n",
    "         )"
   ]
  },
  {
   "cell_type": "code",
   "execution_count": null,
   "id": "e8681114",
   "metadata": {},
   "outputs": [],
   "source": [
    "%pycat ejemplo.csv"
   ]
  },
  {
   "cell_type": "code",
   "execution_count": null,
   "id": "71ba7a90",
   "metadata": {},
   "outputs": [],
   "source": [
    "inventario = [\n",
    "    ['Nombre',\n",
    "     'Clave',\n",
    "     'Descripción',\n",
    "     'Precio',\n",
    "     'Stock'],\n",
    "     ['Laptop  X16',\n",
    "      'LTX16Pplus',\n",
    "      'Laptop de 16 pulgadas procesador Premium',\n",
    "      20000,\n",
    "      12],\n",
    "      ['Laptop  X13',\n",
    "       'LTX13P',\n",
    "       'Laptop de 13 pulgadas procesador Medium',\n",
    "       13400,\n",
    "       35],\n",
    "       ['Tablet S23',\n",
    "        'TBS23m08xx',\n",
    "        'Tablet S23 11 Pulgadas 8GB RAM',\n",
    "        9500,\n",
    "        78]\n",
    "        ]"
   ]
  },
  {
   "cell_type": "code",
   "execution_count": null,
   "id": "6a1a2206",
   "metadata": {},
   "outputs": [],
   "source": [
    "with open(\"ejemplo.csv\", \"w\", encoding=\"UTF-8\") as f:\n",
    "    writer = csv.writer(f)\n",
    "    writer.writerows(inventario)"
   ]
  },
  {
   "cell_type": "code",
   "execution_count": null,
   "id": "bab0e833",
   "metadata": {},
   "outputs": [],
   "source": [
    "%pycat ejemplo.csv"
   ]
  },
  {
   "cell_type": "markdown",
   "id": "bbd9539a",
   "metadata": {},
   "source": [
    "### La clase `csv.DictWriter`.\n",
    "\n",
    "Esta clase permite almacenar diccionarios en un archivo *csv* a partor de encabezados predefinidos.\n",
    "\n",
    "```\n",
    "csv.DictWritter(<f>, fieldnames=<campos>, delimiter=<d>, encoding=<e>)\n",
    "```\n",
    "\n",
    "Donde:\n",
    "* `<f>` es un objeto de tipo `file` abierto en modo escritura.\n",
    "* `<campos>` es una colección secuencial de cadenas de caracteres que representan los nombres de las columnas en el archivo *csv*.\n",
    "* `delimiter` es un carácter que se utiliza para separar los campos en el archivo CSV. El valor predeterminado es la coma (`','`).\n",
    "* `encoding` es la codificación de caracteres que se utilizará para escribir en el archivo. El valor predeterminado es `'utf-8'`."
   ]
  },
  {
   "cell_type": "markdown",
   "id": "9907aeb7",
   "metadata": {},
   "source": [
    "#### Métodos de `csv.DictWriter`.\n",
    "\n",
    "- `writeheader()`: Escribe la fila de encabezado en el archivo *csv*.\n",
    "\n",
    "- `writerow()`: Escribe una fila en el archivo *csv* a partir de un diccionario que se ingrese como argumento.\n",
    "\n",
    "- `writerows()`: Escribe múltiples filas en el archivo *csv* a partir de una colección secuencial de diccionarios que se ingrese como argumento.\n",
    "\n",
    "En caso de que alguna clave de un diccionario no coincida con los nombres de los campos, se desencadenará una excepción `ValueError`."
   ]
  },
  {
   "cell_type": "code",
   "execution_count": null,
   "id": "73f3afd6",
   "metadata": {},
   "outputs": [],
   "source": [
    "inventario = [\n",
    "    {'Nombre': 'Laptop  X16', \n",
    "     'Clave': 'LTX16Pplus',\n",
    "     'Descripción': 'Laptop de 16 pulgadas procesador Premium',\n",
    "     'Precio': 20000,\n",
    "     'Stock': 12},\n",
    "     {'Nombre': 'Laptop  X13',\n",
    "      'Clave': 'LTX13P',\n",
    "      'Descripción': 'Laptop de 13 pulgadas procesador Medium',\n",
    "      'Precio': 13400,\n",
    "      'Stock': 35},\n",
    "      {'Nombre': 'Tablet S23',\n",
    "       'Clave': 'TBS23m08xx',\n",
    "       'Descripción': 'Tablet S23 11 Pulgadas 8GB RAM',\n",
    "       'Precio': 9500,\n",
    "       'Stock': 78}\n",
    "       ]\n",
    "\n",
    "producto = {\n",
    "    'Nombre': 'Mouse XL',\n",
    "    'Clave': 'MIXL01xxx',\n",
    "    'Descripción': 'Mouse Inalámbrico Extra Grande',\n",
    "    'Precio': 600,\n",
    "    'Stock': 83\n",
    "    }\n",
    "producto_incompleto = {\n",
    "    'Nombre': 'Teclado',\n",
    "    'Clave': 'xxxxxxxx'\n",
    "}\n",
    "producto_malformado = {\n",
    "    'Nombre': 'Mouse L',\n",
    "    'clave': 'MIL012xxx',\n",
    "    'descripción': 'Mouse Inalámbrico Mediano',\n",
    "    'Precio': 410,\n",
    "    'Stock': 8\n",
    "    }\n",
    "\n",
    "campos = ['Nombre', 'Clave', 'Descripción', 'Precio', 'Stock']"
   ]
  },
  {
   "cell_type": "code",
   "execution_count": null,
   "id": "a0e1d65e",
   "metadata": {},
   "outputs": [],
   "source": [
    "with open(\"ejemplo.csv\", \"w\", encoding=\"UTF-8\") as f:\n",
    "    writer = csv.DictWriter(f, fieldnames=campos)\n",
    "    try:\n",
    "        writer.writeheader()\n",
    "        writer.writerows(inventario)\n",
    "        writer.writerow(producto)\n",
    "        writer.writerow(producto_incompleto)\n",
    "        writer.writerow(producto_malformado)\n",
    "    except ValueError as e:\n",
    "        if 'dict contains fields not in fieldnames' in str(e):\n",
    "            print(\"Hay un objeto con campos incorrectos.\")\n",
    "        else:\n",
    "            raise ValueError(e)"
   ]
  },
  {
   "cell_type": "code",
   "execution_count": null,
   "id": "0c9d5d7c",
   "metadata": {},
   "outputs": [],
   "source": [
    "%pycat ejemplo.csv"
   ]
  },
  {
   "cell_type": "markdown",
   "id": "2ddfd05f",
   "metadata": {},
   "source": [
    "### La clase `csv.DictReader`."
   ]
  },
  {
   "cell_type": "markdown",
   "id": "540d9c6a",
   "metadata": {},
   "source": [
    "Esta clase permite leer archivos *csv* y convertir cada fila en un diccionario, utilizando los encabezados como claves.\n",
    "\n",
    "```\n",
    "csv.DictReader(<f>, delimiter=<d>, encoding=<e>)\n",
    "```\n",
    "\n",
    "Donde:\n",
    "- `<f>` es un objeto de tipo `file` abierto en modo lectura.\n",
    "- `delimiter` es un carácter que se utiliza para separar los campos en el archivo *csv*. El valor predeterminado es la coma (`','`).\n",
    "- `encoding` es la codificación de caracteres que se utilizará para leer el archivo. El valor predeterminado es `'utf-8'`.\n",
    "\n",
    "La primera fila del archivo *csv* se utiliza como encabezado, y cada fila subsiguiente se convierte en un diccionario donde las claves son los nombres de las columnas.\n",
    "\n",
    "Los tipos de datos de los valores en el diccionario son siempre cadenas de caracteres.\n",
    "\n",
    "El objeto instanciado de `csv.DictReader` es un iterable que produce diccionarios para cada fila del archivo *csv*."
   ]
  },
  {
   "cell_type": "code",
   "execution_count": null,
   "id": "9030551c",
   "metadata": {},
   "outputs": [],
   "source": [
    "with open('ejemplo.csv', mode='r') as f:\n",
    "    reader = csv.DictReader(f)\n",
    "    for row in reader:\n",
    "        print(row)"
   ]
  },
  {
   "cell_type": "markdown",
   "id": "57f54514",
   "metadata": {},
   "source": [
    "### La función `csv.reader()`."
   ]
  },
  {
   "cell_type": "markdown",
   "id": "1e128d38",
   "metadata": {},
   "source": [
    "La función `csv.reader()` permite crear objetos capaces de leer archivos *csv*.\n",
    "\n",
    "```\n",
    "csv.reader(<f>, delimiter=<delimitador>)\n",
    "```\n",
    "Donde:\n",
    " * `<f>` es un objeto en el que se pueden realizar operaciones de lectura.\n",
    " * `<delimitador>` es una cadena de caracteres que indica el carácter utilizado para separar los valores en el archivo *csv*. Por defecto, este es una coma (`,`). \n",
    "Los objetos creados por `csv.reader()` son iterables que producen listas de cadenas de caracteres, cada una representando una fila del archivo *csv*.\n",
    "\n",
    "El objeto instanciado de `csv.reader` es un iterable que produce listas para cada fila del archivo *csv*."
   ]
  },
  {
   "cell_type": "code",
   "execution_count": null,
   "id": "8d4e7e86",
   "metadata": {},
   "outputs": [],
   "source": [
    "with open('ejemplo.csv', mode='r', newline='') as f:\n",
    "    reader = csv.reader(f)\n",
    "    for row in reader:\n",
    "        print(row)"
   ]
  },
  {
   "cell_type": "markdown",
   "id": "d4df8455",
   "metadata": {},
   "source": [
    "## El paquete `json`.\n",
    "Este paquete cuenta con herramientas para la lectura y escritura de archivos JSON, un formato de intercambio de datos muy utilizado en aplicaciones web."
   ]
  },
  {
   "cell_type": "markdown",
   "id": "7e1bfb1d",
   "metadata": {},
   "source": [
    "### La función `json.dump()`.\n",
    "La función `json.dump()` permite escribir objetos de Python en un archivo JSON.\n",
    "\n",
    "```\n",
    "json.dump(<obj>, <f>, indent=<n>)\n",
    "```\n",
    "Donde:\n",
    "* `<obj>` es el objeto de Python que se desea escribir en el archivo JSON. Este objeto debe ser serializable en JSON, lo que significa que debe ser uno de los tipos de datos compatibles con JSON, como diccionarios, listas, cadenas, números, booleanos o `None`.\n",
    "* `<f>` es un objeto de tipo `file` abierto en modo escritura.\n",
    "* `indent` es un número entero que especifica el nivel de sangría para la salida JSON. Esto hace que el archivo JSON resultante sea más legible para los humanos."
   ]
  },
  {
   "cell_type": "code",
   "execution_count": null,
   "id": "f7eee8fc",
   "metadata": {},
   "outputs": [],
   "source": [
    "with open('ejemplo.json', mode='w') as f:\n",
    "    json.dump(inventario, f, indent=4)"
   ]
  },
  {
   "cell_type": "code",
   "execution_count": null,
   "id": "d562d4f7",
   "metadata": {},
   "outputs": [],
   "source": [
    "%pycat ejemplo.json"
   ]
  },
  {
   "cell_type": "markdown",
   "id": "e6c12eb1",
   "metadata": {},
   "source": [
    "### La función `json.load()`.\n",
    "\n",
    "La función `json.load()` permite leer datos desde un archivo JSON y convertirlos en objetos de Python.\n",
    "\n",
    "```\n",
    "json.load(<f>)\n",
    "```\n",
    "Donde:\n",
    "* `<f>` es un objeto de tipo `file` abierto en modo lectura.\n",
    "La función `json.load()` devuelve el objeto de Python correspondiente a los datos JSON contenidos en el archivo. Los tipos de datos JSON se mapean a tipos de datos de Python de la siguiente manera:\n",
    "* Objetos JSON se convierten en diccionarios de Python.\n",
    "* Arreglos JSON se convierten en listas de Python.\n",
    "* Cadenas JSON se convierten en cadenas de Python.\n",
    "* Números JSON se convierten en enteros o flotantes de Python, según corresponda.\n",
    "* Los valores `true`, `false` y `null` en JSON se convierten en `True`, `False` y `None` en Python, respectivamente."
   ]
  },
  {
   "cell_type": "code",
   "execution_count": null,
   "id": "022e2d36",
   "metadata": {},
   "outputs": [],
   "source": [
    "with open('ejemplo.json', mode='r') as f:\n",
    "    datos = json.load(f)\n",
    "    for item in datos:\n",
    "        print(item)"
   ]
  },
  {
   "cell_type": "markdown",
   "id": "5cfc86ee",
   "metadata": {},
   "source": [
    "## Ejemplos demostrativos."
   ]
  },
  {
   "cell_type": "code",
   "execution_count": null,
   "id": "13f46881",
   "metadata": {},
   "outputs": [],
   "source": [
    "from datetime import datetime"
   ]
  },
  {
   "cell_type": "code",
   "execution_count": null,
   "id": "9d03540e",
   "metadata": {},
   "outputs": [],
   "source": [
    "# Ejemplo 1: Escribir archivo CSV\n",
    "print(\"\\n1. Escribiendo archivo CSV:\")\n",
    "productos = [\n",
    "    ['id', 'nombre', 'precio', 'stock'],\n",
    "    ['1', 'Laptop Pro', '1200', '5'],\n",
    "    ['2', 'Smartphone X', '800', '10'],\n",
    "    ['3', 'Tablet Air', '500', '8']\n",
    "]\n",
    "try:\n",
    "    with open('inventario.csv', 'w', newline='') as archivo:\n",
    "        writer = csv.writer(archivo)\n",
    "        writer.writerows(productos)\n",
    "    print(\"Archivo CSV creado exitosamente\")\n",
    "except IOError as e:\n",
    "    print(f\"Error al escribir CSV: {e}\")"
   ]
  },
  {
   "cell_type": "code",
   "execution_count": null,
   "id": "de47061c",
   "metadata": {},
   "outputs": [],
   "source": [
    "# Ejemplo 2: Leer archivo CSV\n",
    "print(\"\\n2. Leyendo archivo CSV:\")\n",
    "try:\n",
    "    with open('inventario.csv', 'r') as archivo:\n",
    "        reader = csv.DictReader(archivo)\n",
    "        print(\"Inventario actual:\")\n",
    "        for row in reader:\n",
    "            print(f\"- {row['nombre']}: ${row['precio']} ({row['stock']} unidades)\")\n",
    "except IOError as e:\n",
    "    print(f\"Error al leer CSV: {e}\")"
   ]
  },
  {
   "cell_type": "code",
   "execution_count": null,
   "id": "4e0a64b3",
   "metadata": {},
   "outputs": [],
   "source": [
    "# Ejemplo 3: Crear archivo JSON\n",
    "print(\"\\n3. Escribiendo archivo JSON:\")\n",
    "ventas = {\n",
    "    'fecha': datetime.now().strftime('%Y-%m-%d'),\n",
    "    'total': 2500,\n",
    "    'transacciones': [\n",
    "        {'producto': 'Laptop Pro', 'cantidad': 1, 'total': 1200},\n",
    "        {'producto': 'Smartphone X', 'cantidad': 2, 'total': 1300}\n",
    "    ]\n",
    "}\n",
    "    \n",
    "try:\n",
    "    with open('ventas.json', 'w') as archivo:\n",
    "        json.dump(ventas, archivo, indent=4)\n",
    "    print(\"Archivo JSON creado exitosamente\")\n",
    "except IOError as e:\n",
    "    print(f\"Error al escribir JSON: {e}\")"
   ]
  },
  {
   "cell_type": "code",
   "execution_count": null,
   "id": "34fcbe3d",
   "metadata": {},
   "outputs": [],
   "source": [
    "# Ejemplo 4: Leer archivo JSON\n",
    "print(\"\\n4. Leyendo archivo JSON:\")\n",
    "try:\n",
    "    with open('ventas.json', 'r') as archivo:\n",
    "        datos = json.load(archivo)\n",
    "        print(f\"Ventas del día {datos['fecha']}:\")\n",
    "        print(f\"Total: ${datos['total']}\")\n",
    "        print(\"Transacciones:\")\n",
    "        for t in datos['transacciones']:\n",
    "            print(f\"- {t['producto']}: {t['cantidad']} unidad(es) = ${t['total']}\")\n",
    "except IOError as e:\n",
    "    print(f\"Error al leer JSON: {e}\")"
   ]
  }
 ],
 "metadata": {
  "kernelspec": {
   "display_name": "base",
   "language": "python",
   "name": "python3"
  },
  "language_info": {
   "codemirror_mode": {
    "name": "ipython",
    "version": 3
   },
   "file_extension": ".py",
   "mimetype": "text/x-python",
   "name": "python",
   "nbconvert_exporter": "python",
   "pygments_lexer": "ipython3",
   "version": "3.13.5"
  }
 },
 "nbformat": 4,
 "nbformat_minor": 5
}
