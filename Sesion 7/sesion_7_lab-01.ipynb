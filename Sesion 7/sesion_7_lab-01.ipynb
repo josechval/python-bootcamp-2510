{
 "cells": [
  {
   "cell_type": "markdown",
   "id": "8c9332fa",
   "metadata": {},
   "source": [
    "# Sesion 7 - Laboratorio: Sistema de Carrito de Compras\n",
    "Objetivo: Practicar la creación de clases y objetos implementando\n",
    "un sistema básico de carrito de compras.\n",
    "\n",
    "La clase `CarritoCompras` debe:\n",
    "1. Permitir agregar y remover productos\n",
    "2. Calcular el total de la compra\n",
    "3. Aplicar descuentos según cantidad\n",
    "4. Gestionar el inventario al realizar la compra"
   ]
  },
  {
   "cell_type": "code",
   "execution_count": null,
   "id": "e4af76a3",
   "metadata": {},
   "outputs": [],
   "source": [
    "class Producto:\n",
    "    \"\"\"Clase base proporcionada para el ejercicio\"\"\"\n",
    "    \n",
    "    def __init__(self, codigo, nombre, precio, stock):\n",
    "        self.codigo = codigo\n",
    "        self.nombre = nombre\n",
    "        self.precio = precio\n",
    "        self.stock = stock\n",
    "    \n",
    "    def actualizar_stock(self, cantidad):\n",
    "        \"\"\"Actualiza el stock del producto\"\"\"\n",
    "        if self.stock + cantidad >= 0:\n",
    "            self.stock += cantidad\n",
    "            return True\n",
    "        return False"
   ]
  },
  {
   "cell_type": "code",
   "execution_count": null,
   "id": "d87b3860",
   "metadata": {},
   "outputs": [],
   "source": [
    "class CarritoCompras:\n",
    "    \"\"\"\n",
    "    Implementa un carrito de compras que gestiona productos\n",
    "    \"\"\"\n",
    "    \n",
    "    def __init__(self):\n",
    "        \"\"\"\n",
    "        Inicializa un carrito vacío\n",
    "        \"\"\"\n",
    "        # TODO: Implementar inicialización\n",
    "    \n",
    "    def agregar_producto(self, producto, cantidad):\n",
    "        \"\"\"\n",
    "        Agrega un producto al carrito\n",
    "        Args:\n",
    "            producto (Producto): El producto a agregar\n",
    "            cantidad (int): Cantidad del producto\n",
    "        Returns:\n",
    "            bool: True si se agregó correctamente, False si no hay stock\n",
    "        \"\"\"\n",
    "        # TODO: Implementar agregar producto\n",
    "\n",
    "    \n",
    "    def remover_producto(self, codigo_producto):\n",
    "        \"\"\"\n",
    "        Remueve un producto del carrito\n",
    "        Args:\n",
    "            codigo_producto (str): Código del producto a remover\n",
    "        Returns:\n",
    "            bool: True si se removió correctamente, False si no existe\n",
    "        \"\"\"\n",
    "        # TODO: Implementar remover producto\n",
    "    \n",
    "    \n",
    "    def calcular_total(self):\n",
    "        \"\"\"\n",
    "        Calcula el total de la compra con descuentos\n",
    "        Returns:\n",
    "            float: Total a pagar\n",
    "        \"\"\"\n",
    "        # TODO: Implementar cálculo del total\n",
    "    \n",
    "    def realizar_compra(self):\n",
    "        \"\"\"\n",
    "        Finaliza la compra y actualiza el inventario\n",
    "        Returns:\n",
    "            bool: True si la compra fue exitosa, False si hubo problemas\n",
    "        \"\"\""
   ]
  },
  {
   "cell_type": "code",
   "execution_count": null,
   "id": "a8de1cd0",
   "metadata": {},
   "outputs": [],
   "source": [
    "# Crear productos de prueba\n",
    "productos = [\n",
    "    Producto(\"LAP001\", \"Laptop Pro\", 1200, 5),\n",
    "    Producto(\"CEL001\", \"Smartphone X\", 800, 10),\n",
    "    Producto(\"TAB001\", \"Tablet Pro\", 500, 8)\n",
    "    ]\n",
    "    \n",
    "print(\"=== Sistema de Carrito de Compras ===\")\n",
    "    \n",
    "# Crear carrito\n",
    "carrito = CarritoCompras()\n",
    "        \n",
    "# Prueba 1: Agregar productos\n",
    "print(\"\\nPrueba 1: Agregando productos al carrito\")\n",
    "carrito.agregar_producto(productos[0], 2)\n",
    "carrito.agregar_producto(productos[1], 1)\n",
    "print(f\"Total actual: ${carrito.calcular_total()}\")"
   ]
  },
  {
   "cell_type": "code",
   "execution_count": null,
   "id": "c321899b",
   "metadata": {},
   "outputs": [],
   "source": [
    "# Prueba 2: Remover producto\n",
    "print(\"\\nPrueba 2: Removiendo un producto\")\n",
    "carrito.remover_producto(\"LAP001\")\n",
    "print(f\"Total después de remover: ${carrito.calcular_total()}\")"
   ]
  },
  {
   "cell_type": "code",
   "execution_count": null,
   "id": "67be1444",
   "metadata": {},
   "outputs": [],
   "source": [
    "# Prueba 3: Realizar compra\n",
    "print(\"\\nPrueba 3: Finalizando compra\")\n",
    "if carrito.realizar_compra():\n",
    "    print(\"Compra realizada con éxito\")\n",
    "else:\n",
    "    print(\"Error al realizar la compra\")"
   ]
  }
 ],
 "metadata": {
  "language_info": {
   "name": "python"
  }
 },
 "nbformat": 4,
 "nbformat_minor": 5
}
