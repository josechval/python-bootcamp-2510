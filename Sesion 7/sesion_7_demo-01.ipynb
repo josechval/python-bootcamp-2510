{
 "cells": [
  {
   "cell_type": "markdown",
   "id": "e2f00f57",
   "metadata": {
    "vscode": {
     "languageId": "plaintext"
    }
   },
   "source": [
    "# Demo 1: Introducción a Clases y Objetos\n",
    "\n",
    "Objetivo: Mostrar los conceptos básicos de la programación orientada a objetos en Python, incluyendo la definición de clases, creación de objetos, atributos y métodos."
   ]
  },
  {
   "cell_type": "markdown",
   "id": "3dd2dff0",
   "metadata": {},
   "source": [
    "## Todo es un objeto en Python.\n",
    "\n",
    "Aún cuando Python soporta diversos paradigmas de progranación,Todos los tipos de datos son instancias de `object`.\n",
    "\n",
    "* \"Instanciar\" significa crear un objeto a partir de una clase.\n",
    "* Todos los tipos de datos en Python son instancias de la clase `object`.\n",
    "* Los tipos de datos también son clases."
   ]
  },
  {
   "cell_type": "markdown",
   "id": "c182adbf",
   "metadata": {},
   "source": [
    "### La función `isinstance()`.\n",
    "\n",
    "La función `isinstance()` valida si el primer argumento es instancia del segundo argumento."
   ]
  },
  {
   "cell_type": "markdown",
   "id": "3c6d484f",
   "metadata": {},
   "source": [
    "* La siguiente celda valida que el número `1` es instancia de la clase `int`."
   ]
  },
  {
   "cell_type": "code",
   "execution_count": null,
   "id": "d55a1909",
   "metadata": {},
   "outputs": [],
   "source": [
    "isinstance(1, int)"
   ]
  },
  {
   "cell_type": "markdown",
   "id": "c851cd8f",
   "metadata": {},
   "source": [
    "* La siguiente celda valida que el número `1` es instancia `object`."
   ]
  },
  {
   "cell_type": "code",
   "execution_count": null,
   "id": "458c3df1",
   "metadata": {},
   "outputs": [],
   "source": [
    "isinstance(1, object)"
   ]
  },
  {
   "cell_type": "markdown",
   "id": "c967babc",
   "metadata": {},
   "source": [
    "* La siguiente celda valida que `int` es instancia de la `object`."
   ]
  },
  {
   "cell_type": "code",
   "execution_count": null,
   "id": "a99ab7c5",
   "metadata": {},
   "outputs": [],
   "source": [
    "isinstance(int, object)"
   ]
  },
  {
   "cell_type": "markdown",
   "id": "a0b65ecd",
   "metadata": {},
   "source": [
    "## Instanciación de un tipo o clase.\n",
    "\n",
    "Aún cuando el intérprete de Python es capaz de inferir el tipo de dato de una variable, es posible instanciar un objeto de una clase específica.\n",
    "\n",
    "`Clase(<argumentos>)`\n",
    "\n",
    "Donde:\n",
    "* `Clase` es el nombre de la clase a instanciar.\n",
    "* `<argumentos>` son los argumentos necesarios para instanciar la clase en caso de requerirse."
   ]
  },
  {
   "cell_type": "markdown",
   "id": "0dda3416",
   "metadata": {},
   "source": [
    "* La siguiente celda creará una lista vacía instanciando la clase `list`."
   ]
  },
  {
   "cell_type": "code",
   "execution_count": null,
   "id": "a0e368d0",
   "metadata": {},
   "outputs": [],
   "source": [
    "lista = list()\n",
    "lista"
   ]
  },
  {
   "cell_type": "markdown",
   "id": "189e0961",
   "metadata": {},
   "source": [
    "* La siguente celda creará un diccionario instanciando la clase `dict`. Los argumentos son pares clave-valor."
   ]
  },
  {
   "cell_type": "code",
   "execution_count": null,
   "id": "6cd9b002",
   "metadata": {},
   "outputs": [],
   "source": [
    "persona = dict(nombre=\"Juan\", apellido=\"Pérez\", edad=30)"
   ]
  },
  {
   "cell_type": "code",
   "execution_count": null,
   "id": "5aca1baa",
   "metadata": {},
   "outputs": [],
   "source": [
    "print(persona[\"edad\"])"
   ]
  },
  {
   "cell_type": "markdown",
   "id": "418b0e5f",
   "metadata": {},
   "source": [
    "## Estructura de una clase.\n",
    "Las clases se componen de:\n",
    "* Atributos: variables que describen las características del objeto.\n",
    "* Métodos: funciones que describen el comportamiento del objeto."
   ]
  },
  {
   "cell_type": "markdown",
   "id": "24deece7",
   "metadata": {},
   "source": [
    "## Definición de una clase.\n",
    "\n",
    "La palabra clave `class` se utiliza para definir una clase en Python.\n",
    "\n",
    "`class NombreDeLaClase():\n",
    "    <cuerpo de la clase>\n",
    "`\n",
    "Donde:\n",
    "* `NombreDeLaClase` es el nombre de la clase que se está definiendo. Por convención, los nombres de las clases en Python utilizan la notación CamelCase.\n",
    "* `<cuerpo de la clase>` es el conjunto de atributos y métodos que definen la clase."
   ]
  },
  {
   "cell_type": "markdown",
   "id": "f4a013e9",
   "metadata": {},
   "source": [
    "* La siguiente celda crea una clase vacía llamada `Nula`.\n",
    "* La palabra clave `pass` indica que no se define ningún atributo o método en la clase.\n",
    "* La clase `Nula` tiene los atributos y métodos heredados de la clase `object`."
   ]
  },
  {
   "cell_type": "code",
   "execution_count": null,
   "id": "972e3bd0",
   "metadata": {},
   "outputs": [],
   "source": [
    "class ClaseNula():\n",
    "    pass"
   ]
  },
  {
   "cell_type": "markdown",
   "id": "ebd8da62",
   "metadata": {},
   "source": [
    "* Aún cuando la clase `Nula` no define ningún atributo o método, hereda los atributos y métodos de la clase `object`.\n",
    "* La función `dir()` lista los atributos y métodos de un objeto o clase cuando se ingresa el nombre de la clase como argumento."
   ]
  },
  {
   "cell_type": "code",
   "execution_count": null,
   "id": "3cfba441",
   "metadata": {},
   "outputs": [],
   "source": [
    "dir(ClaseNula)"
   ]
  },
  {
   "cell_type": "markdown",
   "id": "ee5c80d8",
   "metadata": {},
   "source": [
    "## Atributos.\n",
    "Los atributos y métodos se definen dentro del cuerpo de la clase.\n",
    "* Los atributos son variables que describen las características del objeto.\n",
    "* Los métodos son funciones que describen el comportamiento del objeto."
   ]
  },
  {
   "cell_type": "markdown",
   "id": "e148c99b",
   "metadata": {},
   "source": [
    "### Estado de un objeto.\n",
    "El estado de un objeto está representado por los valores de sus atributos en un momento dado."
   ]
  },
  {
   "cell_type": "markdown",
   "id": "746d31aa",
   "metadata": {},
   "source": [
    "* La siguiente celda define una clase `Entero` con un atributo `valor` que es una instancia de la clase `int`."
   ]
  },
  {
   "cell_type": "code",
   "execution_count": null,
   "id": "1f76cb88",
   "metadata": {},
   "outputs": [],
   "source": [
    "class Entero:\n",
    "    valor = 1"
   ]
  },
  {
   "cell_type": "markdown",
   "id": "42595264",
   "metadata": {},
   "source": [
    "* La siguiente celda crea un instancia de la clase `Entero`."
   ]
  },
  {
   "cell_type": "code",
   "execution_count": null,
   "id": "5bd3d5d3",
   "metadata": {},
   "outputs": [],
   "source": [
    "entero = Entero()"
   ]
  },
  {
   "cell_type": "markdown",
   "id": "5f138d39",
   "metadata": {},
   "source": [
    "* El atributo `valor` de la instancia `entero` se puede acceder utilizando la notación de punto."
   ]
  },
  {
   "cell_type": "code",
   "execution_count": null,
   "id": "bd7e0cf8",
   "metadata": {},
   "outputs": [],
   "source": [
    "entero.valor"
   ]
  },
  {
   "cell_type": "markdown",
   "id": "e2829bfd",
   "metadata": {},
   "source": [
    "* Es posible asignar otro valor al atributo `valor` de la instancia `entero`."
   ]
  },
  {
   "cell_type": "code",
   "execution_count": null,
   "id": "64f6a4f8",
   "metadata": {},
   "outputs": [],
   "source": [
    "entero.valor = 11"
   ]
  },
  {
   "cell_type": "markdown",
   "id": "c7726444",
   "metadata": {},
   "source": [
    "* Pueden haber múltiples intancias de una clase."
   ]
  },
  {
   "cell_type": "code",
   "execution_count": null,
   "id": "5558f23f",
   "metadata": {},
   "outputs": [],
   "source": [
    "primero, segundo, tercero = Entero(), Entero(), Entero()"
   ]
  },
  {
   "cell_type": "markdown",
   "id": "d10bd46e",
   "metadata": {},
   "source": [
    "* Debido a que Python es un lenguaje de tipado dinámico, los atributos pueden cambiar de tipo."
   ]
  },
  {
   "cell_type": "code",
   "execution_count": null,
   "id": "5c90855a",
   "metadata": {},
   "outputs": [],
   "source": [
    "primero.valor = 6\n",
    "segundo.valor = 11\n",
    "tercero.valor = \"Hola\"\n",
    "\n",
    "print(f'Atributo valor de primero: {primero.valor}')\n",
    "print(f'Atributo valor de segundo: {segundo.valor}')\n",
    "print(f'Atributo valor de tercero: {tercero.valor}')"
   ]
  },
  {
   "cell_type": "markdown",
   "id": "be31c46e",
   "metadata": {},
   "source": [
    "## Métodos.\n",
    "Los métodos son objetos invocables (callables) similares a las funciones que describen el comportamiento del objeto.\n",
    "* Los métodos se definen dentro del cuerpo de la clase.\n",
    "* El primer parámetro de un método es siempre `self`, que es una referencia a la instancia actual del objeto.\n",
    "* Los métodos pueden tener otros parámetros además de `self`.\n",
    "* Los métodos pueden devolver valores utilizando la palabra clave `return`.\n",
    "* Los métodos pueden acceder y modificar los atributos del objeto utilizando la notación de `self.<atributo>`.\n",
    "* Los métodos tienen ámbitos de variables locales, similares a las funciones."
   ]
  },
  {
   "cell_type": "code",
   "execution_count": null,
   "id": "e42c3bd9",
   "metadata": {},
   "outputs": [],
   "source": [
    "class SumaDosAtributos():\n",
    "    \"\"\"Clase que suma los atributos a y b mediante el método suma\"\"\"\n",
    "    a = 12\n",
    "    b = 5\n",
    "    \n",
    "    def suma(self):\n",
    "        '''Método que suma los atributos a y b'''\n",
    "        suma = self.a + self.b\n",
    "        return suma\n"
   ]
  },
  {
   "cell_type": "markdown",
   "id": "f66930e8",
   "metadata": {},
   "source": [
    "* La siguiente celda creará una instancia de la clase `SumaDosAtributos` con nombre `calculadora` y llamará al método `suma()` de dicho objeto."
   ]
  },
  {
   "cell_type": "code",
   "execution_count": null,
   "id": "b165e062",
   "metadata": {},
   "outputs": [],
   "source": [
    "calculadora = SumaDosAtributos()\n",
    "calculadora.suma()"
   ]
  },
  {
   "cell_type": "markdown",
   "id": "a17bbd32",
   "metadata": {},
   "source": [
    "* La siguiente celda modificará los atributos `a` y `b` de la instancia `calculadora` y llamará nuevamente al método `suma()`."
   ]
  },
  {
   "cell_type": "code",
   "execution_count": null,
   "id": "58a7a835",
   "metadata": {},
   "outputs": [],
   "source": [
    "calculadora.a = 5\n",
    "calculadora.b  = 5\n",
    "calculadora.suma()"
   ]
  },
  {
   "cell_type": "markdown",
   "id": "66e86c32",
   "metadata": {},
   "source": [
    "## El método `__init__()`.\n",
    "El método `__init__()` es un método especial que se llama automáticamente cuando se crea una nueva instancia de una clase.\n",
    "* El método `__init__()` se utiliza para inicializar los atributos del objeto.\n",
    "* El método `__init__()` siempre tiene al menos un parámetro, `self`, que es una referencia a la instancia actual del objeto.\n",
    "* El método `__init__()` puede tener otros parámetros además de `self`, a los cuales se les pueden asignar valores al crear una nueva instancia de la clase."
   ]
  },
  {
   "cell_type": "markdown",
   "id": "de1152a8",
   "metadata": {},
   "source": [
    "* La siguiente celda define una clase `SumaDosAtributosParametrizada` que tiene un método `__init__()` que inicializa los atributos `a` y `b` con valores predeterminados de `7`."
   ]
  },
  {
   "cell_type": "code",
   "execution_count": null,
   "id": "6f617a86",
   "metadata": {},
   "outputs": [],
   "source": [
    "class SumaDosAtributosParametrizada():\n",
    "    '''Clase que recibe dos argumentos que son cachados por __init__'''\n",
    "    def __init__(self, a=7, b=7):\n",
    "        '''Método que inicializa el estado de un objeto instanciado'''\n",
    "        self.a = a\n",
    "        self.b = b\n",
    "    \n",
    "    def suma(self):\n",
    "        '''Método que suma los atributos a y b'''\n",
    "        suma = self.a + self.b\n",
    "        return suma"
   ]
  },
  {
   "cell_type": "markdown",
   "id": "5c3adc12",
   "metadata": {},
   "source": [
    "* La siguiente celda creará una instancia de la clase `SumaDosAtributosParametrizada` que inicializa los atributos `a` y `b` con los valores `2` y `3`, respectivamente, y llamará al método `suma()` de dicho objeto.\n",
    "* De no especificar valores para `a` y `b`, se utilizarán los valores predeterminados de `7`."
   ]
  },
  {
   "cell_type": "code",
   "execution_count": null,
   "id": "5fcccf39",
   "metadata": {},
   "outputs": [],
   "source": [
    "calculadora_param = SumaDosAtributosParametrizada(2, 3)\n",
    "calculadora_param.suma()"
   ]
  },
  {
   "cell_type": "markdown",
   "id": "fdf139fa",
   "metadata": {},
   "source": [
    "* La función `help` muestra la documentación de una clase, método o función."
   ]
  },
  {
   "cell_type": "code",
   "execution_count": null,
   "id": "357dae89",
   "metadata": {},
   "outputs": [],
   "source": [
    "help(SumaDosAtributosParametrizada)"
   ]
  },
  {
   "cell_type": "code",
   "execution_count": null,
   "id": "013036b2",
   "metadata": {},
   "outputs": [],
   "source": [
    "help(calculadora_param.suma)"
   ]
  },
  {
   "cell_type": "markdown",
   "id": "238d97ff",
   "metadata": {},
   "source": [
    "## Ejemplo práctico."
   ]
  },
  {
   "cell_type": "markdown",
   "id": "9ba0ad79",
   "metadata": {},
   "source": [
    "La clase `Producto` representa un producto con atributos como nombre, precio y cantidad en stock, y métodos para calcular el valor total del stock y aplicar un descuento al precio.\n"
   ]
  },
  {
   "cell_type": "code",
   "execution_count": null,
   "id": "fd30bae3",
   "metadata": {},
   "outputs": [],
   "source": [
    "class Producto:\n",
    "    \"\"\"\n",
    "    Clase que representa un producto en una tienda online.\n",
    "    Demuestra conceptos básicos de POO: atributos, métodos, constructor.\n",
    "    \"\"\"\n",
    "    \n",
    "    def __init__(self, codigo, nombre, precio, stock=0):\n",
    "        \"\"\"Constructor de la clase\"\"\"\n",
    "        self.codigo = codigo\n",
    "        self.nombre = nombre\n",
    "        self.precio = precio\n",
    "        self.stock = stock\n",
    "    \n",
    "    def mostrar_info(self):\n",
    "        \"\"\"Muestra la información del producto\"\"\"\n",
    "        return f\"Producto: {self.nombre} (SKU: {self.codigo}) - ${self.precio}\"\n",
    "    \n",
    "    def actualizar_stock(self, cantidad):\n",
    "        \"\"\"Actualiza el stock del producto\"\"\"\n",
    "        self.stock += cantidad\n",
    "        return f\"Stock actualizado. Nuevo stock: {self.stock}\"\n",
    "    \n",
    "    def esta_disponible(self):\n",
    "        \"\"\"Verifica si el producto tiene stock disponible\"\"\"\n",
    "        return self.stock > 0"
   ]
  },
  {
   "cell_type": "code",
   "execution_count": null,
   "id": "5a1ce873",
   "metadata": {},
   "outputs": [],
   "source": [
    "print(\"=== Demo: Clases y Objetos en Python ===\")\n",
    "    \n",
    "# Ejemplo 1: Crear instancias de la clase\n",
    "print(\"\\n1. Creando productos:\")\n",
    "laptop = Producto(\"LAP001\", \"Laptop Pro\", 1200, 5)\n",
    "smartphone = Producto(\"CEL001\", \"Smartphone X\", 800)\n",
    "    \n"
   ]
  },
  {
   "cell_type": "code",
   "execution_count": null,
   "id": "fa2feb02",
   "metadata": {},
   "outputs": [],
   "source": [
    "# Ejemplo 2: Usar métodos de la clase\n",
    "print(\"\\n2. Información de productos:\")\n",
    "print(laptop.mostrar_info())\n",
    "print(smartphone.mostrar_info())\n",
    "    "
   ]
  },
  {
   "cell_type": "code",
   "execution_count": null,
   "id": "1c6c87ec",
   "metadata": {},
   "outputs": [],
   "source": [
    "# Ejemplo 3: Manipular objetos\n",
    "print(\"\\n3. Actualizando stock:\")\n",
    "print(f\"Stock inicial laptop: {laptop.stock}\")\n",
    "print(laptop.actualizar_stock(3))\n",
    "print(f\"¿Laptop disponible?: {laptop.esta_disponible()}\")\n",
    "print(f\"¿Smartphone disponible?: {smartphone.esta_disponible()}\")"
   ]
  }
 ],
 "metadata": {
  "kernelspec": {
   "display_name": "base",
   "language": "python",
   "name": "python3"
  },
  "language_info": {
   "codemirror_mode": {
    "name": "ipython",
    "version": 3
   },
   "file_extension": ".py",
   "mimetype": "text/x-python",
   "name": "python",
   "nbconvert_exporter": "python",
   "pygments_lexer": "ipython3",
   "version": "3.13.5"
  }
 },
 "nbformat": 4,
 "nbformat_minor": 5
}
