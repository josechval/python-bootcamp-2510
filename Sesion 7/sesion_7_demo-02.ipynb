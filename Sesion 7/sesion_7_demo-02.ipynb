{
 "cells": [
  {
   "cell_type": "markdown",
   "id": "d058214f",
   "metadata": {},
   "source": [
    "# Bases del paradigma Orientado a Objetos (POO)"
   ]
  },
  {
   "cell_type": "markdown",
   "id": "5f3508f9",
   "metadata": {},
   "source": [
    "La programación orientada a objetos (POO) es un paradigma de programación que utiliza \"objetos\" para representar datos y métodos. Los objetos son instancias de clases, que actúan como plantillas para crear estos objetos. La POO se basa en varios conceptos clave:\n",
    "- **Clases**: Son plantillas o moldes que definen las propiedades (atributos) y comportamientos (métodos) de los objetos. Una clase puede considerarse como un tipo de dato personalizado.\n",
    "- **Objetos**: Son instancias de una clase. Cada objeto tiene sus propios valores para los atributos definidos en la clase.\n",
    "- **Atributos**: Son las propiedades o características de una clase. Representan el\n",
    "estado de un objeto.\n",
    "- **Métodos**: Son funciones definidas dentro de una clase que describen los comport\n",
    "amientos de los objetos."
   ]
  },
  {
   "cell_type": "markdown",
   "id": "b8cc38fb",
   "metadata": {},
   "source": [
    "## Conceptos principales de la POO.\n",
    "\n",
    "Del mismo modo, la POO incluye conceptos como:\n",
    "- **Encapsulamiento**: La agrupación de datos y métodos que operan sobre esos datos dentro de una clase, protegiendo así el estado interno del objeto.\n",
    "- **Herencia**: La capacidad de una clase para heredar atributos y métodos de otra clase, promoviendo la reutilización del código.\n",
    "- **Polimorfismo**: La capacidad de diferentes clases para ser tratadas como instancias de una clase común, permitiendo que un mismo método se comporte de manera diferente según el objeto que lo invoque.\n",
    "- **Agregación y Composición**: Formas de construir clases complejas a partir de otras clases, donde la agregación implica una relación \"tiene un\" y la composición implica una relación \"es parte de\".\n",
    "- **Abstracción**: La capacidad de definir interfaces y ocultar detalles de implementación, permitiendo a los usuarios interactuar con objetos a través de una interfaz simplificada."
   ]
  },
  {
   "cell_type": "markdown",
   "id": "2c38082d",
   "metadata": {},
   "source": [
    "## Encapsulamiento y propiedades.\n",
    "\n",
    "El encapsulamiento es un principio fundamental de la programación orientada a objetos (POO) que se refiere a la agrupación de datos (atributos) y métodos (funciones) que operan sobre esos datos dentro de una clase. El objetivo del encapsulamiento es proteger el estado interno del objeto y controlar cómo se accede y modifica ese estado desde fuera de la clase."
   ]
  },
  {
   "cell_type": "markdown",
   "id": "15b10b67",
   "metadata": {},
   "source": [
    "### Atributos privados y protegidos.\n",
    "\n",
    "En Python, los atributos pueden ser considerados \"privados\" o \"protegidos\" mediante convenciones de nomenclatura. \n",
    "\n",
    "Un atributo protegido  no debe de ser accedido directamente desde fuera de la clase o sus subclases.\n",
    "\n",
    "`_<atributo>`\n",
    "\n",
    "`self._<atributo>`\n",
    " \n",
    " Donde:\n",
    "- `<atributo>` es el nombre del atributo.\n",
    "\n",
    " \n",
    " Un atributo privado utiliza el name mangling para dificultar su acceso desde fuera de la clase.\n",
    "\n",
    "`__<atributo>`\n",
    "`self.__<atributo>`\n",
    " \n",
    " Donde:\n",
    "- `<atributo>` es el nombre del atributo."
   ]
  },
  {
   "cell_type": "markdown",
   "id": "924b83c3",
   "metadata": {},
   "source": [
    "### Propiedades.\n",
    "\n",
    "Las propiedades son una forma de controlar el acceso a los atributos de una clase. Permiten definir métodos getter y setter para un atributo, lo que proporciona una interfaz controlada para acceder y modificar el valor del atributo. En Python, las propiedades se crean utilizando el decorador `@property` para el método getter y `@<nombre_atributo>.setter` para el método setter."
   ]
  },
  {
   "cell_type": "markdown",
   "id": "ceed91a7",
   "metadata": {},
   "source": [
    "* La clase `ProductoBase` representa un producto con:\n",
    " * Los atributos protegidos `_codigo`, `_nombre`, `_precio` y `_cantidad` para almacenar ese estado.\n",
    " * Los valores de los atributos protegidos se inicializan en el constructor `__init__`.\n",
    "    * Las propiedades `nombre` y `precio` permiten acceder a los atributos protegidos `_nombre` y `_precio` respectivamente, pero no permiten modificarlos directamente desde fuera de la clase.\n",
    "    * El método `calcular_precio_final` regresa el valor de `_precio`.\n",
    "    * El método `marcar_como_vendido` modifica el atributo protegido `_cantidad` para reflejar la venta de una unidad del producto."
   ]
  },
  {
   "cell_type": "code",
   "execution_count": null,
   "id": "199b4a34",
   "metadata": {},
   "outputs": [],
   "source": [
    "class ProductoBase:\n",
    "    \"\"\"Clase base para productos\"\"\"\n",
    "    \n",
    "    def __init__(self, codigo, nombre, precio):\n",
    "        self._codigo = codigo  # Atributo protegido\n",
    "        self._nombre = nombre\n",
    "        self._precio = precio\n",
    "        self._vendido = False\n",
    "    \n",
    "    @property\n",
    "    def nombre(self):\n",
    "        \"\"\"Getter para el nombre\"\"\"\n",
    "        return self._nombre\n",
    "    \n",
    "    @property\n",
    "    def precio(self):\n",
    "        \"\"\"Getter para el precio\"\"\"\n",
    "        return self._precio\n",
    "    \n",
    "    def calcular_precio_final(self):\n",
    "        \"\"\"Método base para calcular precio final\"\"\"\n",
    "        return self._precio\n",
    "    \n",
    "    def marcar_como_vendido(self):\n",
    "        \"\"\"Marca el producto como vendido\"\"\"\n",
    "        self._vendido = True"
   ]
  },
  {
   "cell_type": "code",
   "execution_count": null,
   "id": "f03c7f83",
   "metadata": {},
   "outputs": [],
   "source": [
    "producto_simple = ProductoBase(codigo=1001, nombre=\"café en grano\", precio=10)"
   ]
  },
  {
   "cell_type": "code",
   "execution_count": null,
   "id": "986ea147",
   "metadata": {},
   "outputs": [],
   "source": [
    "producto_simple.nombre"
   ]
  },
  {
   "cell_type": "code",
   "execution_count": null,
   "id": "a55ad63d",
   "metadata": {},
   "outputs": [],
   "source": [
    "producto_simple.nombre = 'Café molido'"
   ]
  },
  {
   "cell_type": "code",
   "execution_count": null,
   "id": "e34f8c71",
   "metadata": {},
   "outputs": [],
   "source": [
    "producto_simple.precio"
   ]
  },
  {
   "cell_type": "code",
   "execution_count": null,
   "id": "e95755cb",
   "metadata": {},
   "outputs": [],
   "source": [
    "producto_simple.calcular_precio_final()"
   ]
  },
  {
   "cell_type": "code",
   "execution_count": null,
   "id": "cbfd821e",
   "metadata": {},
   "outputs": [],
   "source": [
    "producto_simple._nombre"
   ]
  },
  {
   "cell_type": "code",
   "execution_count": null,
   "id": "92db492e",
   "metadata": {},
   "outputs": [],
   "source": [
    "producto_simple._nombre = \"Café\""
   ]
  },
  {
   "cell_type": "code",
   "execution_count": null,
   "id": "affc1c69",
   "metadata": {},
   "outputs": [],
   "source": [
    "help(producto_simple)"
   ]
  },
  {
   "cell_type": "markdown",
   "id": "e5dc5f7b",
   "metadata": {},
   "source": [
    "## Herencia.\n",
    "La herencia es un concepto fundamental en la programación orientada a objetos (POO) que permite a una clase (subclase o clase derivada) heredar atributos y métodos de otra clase (superclase o clase base). Esto promueve la reutilización del código y facilita la creación de jerarquías de clases.\n",
    "\n",
    "`class SubClase(SuperClase):\n",
    "    # Definición de la subclase\n",
    "`   \n",
    "Donde:\n",
    "- `SubClase` es el nombre de la clase que hereda.\n",
    "- `SuperClase` es el nombre de la clase de la cual se hereda."
   ]
  },
  {
   "cell_type": "markdown",
   "id": "cbbf2112",
   "metadata": {},
   "source": [
    "### Sobrescritura de métodos heredados.\n",
    "\n",
    "Una subclase puede sobrescribir (override) los métodos heredados de la superclase para proporcionar una implementación específica. Esto se logra definiendo un método con el mismo nombre en la subclase.\n",
    "`class SubClase(SuperClase):\n",
    "    def metodo_heredado(self):\n",
    "        # Nueva implementación del método\n",
    "`  \n",
    "Donde:\n",
    "- `metodo_heredado` es el nombre del método que se está sobrescribiendo.\n"
   ]
  },
  {
   "cell_type": "markdown",
   "id": "e9070d94",
   "metadata": {},
   "source": [
    "### Reutilización del código de métodos sobrescritos.\n",
    "Dentro de un método sobrescrito, se puede llamar al método de la superclase utilizando la función `super()`. Esto permite reutilizar la lógica de la superclase y extenderla o modificarla según sea necesario.\n",
    "`class SubClase(SuperClase):\n",
    "    def metodo_heredado(self):\n",
    "        super().metodo_heredado()  # Llama al método de la superclase\n",
    "        # Código adicional o modificado\n",
    "`   \n",
    "Donde:\n",
    "- `super().metodo_heredado()` llama al método `metodo_heredado` de la superclase."
   ]
  },
  {
   "cell_type": "markdown",
   "id": "6a92e63d",
   "metadata": {},
   "source": [
    "La clase `ProductoFisico` hereda de la clase `ProductoBase` y añade un nuevo atributo protegido `_peso`.\n",
    "* El constructor `__init__` de `ProductoFisico` llama al constructor de la superclase `ProductoBase` utilizando `super().__init__()` para inicializar los atributos heredados.\n",
    "* Se añade un nuevo atributo `peso` que se inicializa en el constructor.\n",
    "* Se añade un nuevo atributo `costo_envio` que se calcula en el constructor como `peso * 10`.\n",
    "* El método `calcular_precio_final` sobrescribe a la superclase el cual regresará la suma de `self._precio` y `self.costo_envio`. "
   ]
  },
  {
   "cell_type": "code",
   "execution_count": null,
   "id": "435493f2",
   "metadata": {},
   "outputs": [],
   "source": [
    "class ProductoFisico(ProductoBase):\n",
    "    \"\"\"Clase para productos físicos que requieren envío\"\"\"\n",
    "    \n",
    "    def __init__(self, codigo, nombre, precio, peso):\n",
    "        super().__init__(codigo, nombre, precio)\n",
    "        self.peso = peso\n",
    "        self.costo_envio = peso * 10  # $10 por kg\n",
    "    \n",
    "    def calcular_precio_final(self):\n",
    "        \"\"\"Sobrescribe el método para incluir costo de envío\"\"\"\n",
    "        return self._precio + self.costo_envio"
   ]
  },
  {
   "cell_type": "code",
   "execution_count": null,
   "id": "a3fbd45d",
   "metadata": {},
   "outputs": [],
   "source": [
    "help(ProductoFisico)"
   ]
  },
  {
   "cell_type": "code",
   "execution_count": null,
   "id": "1dd0410b",
   "metadata": {},
   "outputs": [],
   "source": [
    "carnico = ProductoFisico(codigo=3002,\n",
    "                         nombre=\"Carne de res\",\n",
    "                         precio = 20,\n",
    "                         peso= 1)"
   ]
  },
  {
   "cell_type": "code",
   "execution_count": null,
   "id": "5effc894",
   "metadata": {},
   "outputs": [],
   "source": [
    "carnico.calcular_precio_final()"
   ]
  },
  {
   "cell_type": "markdown",
   "id": "016c7c24",
   "metadata": {},
   "source": [
    "## Polimorfismo.\n",
    "El polimorfismo es un concepto en la programación orientada a objetos (POO) que permite que diferentes clases sean tratadas como instancias de una clase común. Esto significa que un mismo método puede comportarse de manera diferente según el objeto que lo invoque, permitiendo así una mayor flexibilidad y reutilización del código."
   ]
  },
  {
   "cell_type": "markdown",
   "id": "8291daca",
   "metadata": {},
   "source": [
    "### Sobreescritura de operadores.\n",
    "\n",
    "El polimorfismo también se puede lograr mediante la sobrescritura de operadores. En Python, se pueden definir métodos especiales en una clase para especificar cómo los objetos de esa clase deben comportarse con ciertos operadores (como `+`, `-`, `*`, etc.). Por ejemplo, el método `__add__` puede ser definido para especificar cómo se deben sumar dos objetos de una clase personalizada."
   ]
  },
  {
   "cell_type": "code",
   "execution_count": null,
   "id": "09bfb9d9",
   "metadata": {},
   "outputs": [],
   "source": [
    "dir(int)"
   ]
  },
  {
   "cell_type": "code",
   "execution_count": null,
   "id": "6d386498",
   "metadata": {},
   "outputs": [],
   "source": [
    "class EnteroRaro(int):\n",
    "    def __rmul__(self, number):\n",
    "        return(\"Eso no funciona\")"
   ]
  },
  {
   "cell_type": "code",
   "execution_count": null,
   "id": "dae1fbfa",
   "metadata": {},
   "outputs": [],
   "source": [
    "entero_falso = EnteroRaro(5)"
   ]
  },
  {
   "cell_type": "code",
   "execution_count": null,
   "id": "d0148f52",
   "metadata": {},
   "outputs": [],
   "source": [
    "2 * entero_falso"
   ]
  },
  {
   "cell_type": "code",
   "execution_count": null,
   "id": "e9c5eada",
   "metadata": {},
   "outputs": [],
   "source": [
    "entero_falso * 2"
   ]
  }
 ],
 "metadata": {
  "kernelspec": {
   "display_name": "Python 3",
   "language": "python",
   "name": "python3"
  },
  "language_info": {
   "codemirror_mode": {
    "name": "ipython",
    "version": 3
   },
   "file_extension": ".py",
   "mimetype": "text/x-python",
   "name": "python",
   "nbconvert_exporter": "python",
   "pygments_lexer": "ipython3",
   "version": "3.13.7"
  }
 },
 "nbformat": 4,
 "nbformat_minor": 5
}
