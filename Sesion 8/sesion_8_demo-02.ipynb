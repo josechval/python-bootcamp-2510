{
 "cells": [
  {
   "cell_type": "markdown",
   "id": "e0554286",
   "metadata": {},
   "source": [
    "# Sesión 8 - Demo 2- Subclases de `Exception` y contexto `with`.\n",
    "\n",
    "El objetivo de esta demo es mostrar cómo crear subclases personalizadas de la clase `Exception` en Python y cómo utilizar el contexto `with` para manejar recursos de manera segura."
   ]
  },
  {
   "cell_type": "markdown",
   "id": "1b1336d9",
   "metadata": {},
   "source": [
    "## La clase `Exception`.\n",
    "\n",
    "En Python, todas las excepciones son instancias de la clase `Exception` o de sus subclases. Podemos crear nuestras propias excepciones personalizadas creando subclases de `Exception`. Esto nos permite definir tipos de errores específicos para nuestras aplicaciones, lo que facilita la gestión y el manejo de errores."
   ]
  },
  {
   "cell_type": "code",
   "execution_count": null,
   "id": "4fffe45d",
   "metadata": {},
   "outputs": [],
   "source": [
    "class MiExcepcion(Exception):\n",
    "    \"\"\"Una excepción personalizada que hereda de Exception.\"\"\"\n",
    "    def __init__(self, mensaje=\"¡Ups!\"):\n",
    "        super().__init__(mensaje)\n",
    "        self.mensaje = mensaje"
   ]
  },
  {
   "cell_type": "code",
   "execution_count": null,
   "id": "033831fb",
   "metadata": {},
   "outputs": [],
   "source": [
    "raise MiExcepcion"
   ]
  },
  {
   "cell_type": "markdown",
   "id": "fb619150",
   "metadata": {},
   "source": [
    "## Contexto con `with`.\n",
    "\n",
    "El contexto `with` en Python se utiliza para manejar recursos de manera segura, asegurando que se liberen correctamente después de su uso, incluso si ocurre una excepción. \n",
    "\n",
    "```\n",
    "with Clase() as variable:\n",
    "    # Bloque de código\n",
    "``` \n",
    "\n",
    "Donde:\n",
    "- `Clase()`: Es una clase que implementa los métodos especiales `__enter__` y `__exit__`.\n",
    "- `variable`: Es una variable que recibe el valor retornado por el método `__enter__`.\n",
    "\n",
    "\n",
    "El componente clave para usar `with` es la implementación de los métodos especiales `__enter__` y `__exit__` en la clase que se instanciará."
   ]
  },
  {
   "cell_type": "code",
   "execution_count": null,
   "id": "a3ec268f",
   "metadata": {},
   "outputs": [],
   "source": [
    "class ContextoEjemplo:\n",
    "    def __enter__(self):\n",
    "        print(\"Conectando a la base de datos...\")\n",
    "        return self\n",
    "\n",
    "    def division(self, a=1, b =1):\n",
    "        return a / b\n",
    "        \n",
    "    def __exit__(self, exc_type, exc_value, traceback):\n",
    "        print(\"Cerrando la base de datos...\")\n",
    "        if exc_type:\n",
    "            print(f\"Ocurrió una excepción: {exc_value}\")\n",
    "        return True  # Suprime la excepción si es True"
   ]
  },
  {
   "cell_type": "code",
   "execution_count": null,
   "id": "c3fa0f8f",
   "metadata": {},
   "outputs": [],
   "source": [
    "with ContextoEjemplo() as operacion:\n",
    "    print(operacion.division(b=0))"
   ]
  },
  {
   "cell_type": "code",
   "execution_count": null,
   "id": "5ce4449b",
   "metadata": {},
   "outputs": [],
   "source": [
    "with ContextoEjemplo() as operacion:\n",
    "    print(operacion.division(b=10))"
   ]
  },
  {
   "cell_type": "markdown",
   "id": "d0a2473f",
   "metadata": {},
   "source": [
    "## Ejemplos demostrativos."
   ]
  },
  {
   "cell_type": "markdown",
   "id": "829695a3",
   "metadata": {},
   "source": [
    "### Ejemplo 1."
   ]
  },
  {
   "cell_type": "code",
   "execution_count": null,
   "id": "766d49af",
   "metadata": {},
   "outputs": [],
   "source": [
    "class StockError(Exception):\n",
    "    \"\"\"Excepción personalizada para errores de stock\"\"\"\n",
    "    pass\n",
    "\n",
    "class PrecioInvalidoError(Exception):\n",
    "    \"\"\"Excepción personalizada para errores de precio\"\"\"\n",
    "    pass\n",
    "\n",
    "class Producto:\n",
    "    def __init__(self, nombre, precio, stock):\n",
    "        self.nombre = nombre\n",
    "        self.stock = stock\n",
    "        self.validar_precio(precio)\n",
    "        self._precio = precio\n",
    "    \n",
    "    @staticmethod\n",
    "    def validar_precio(precio):\n",
    "        if precio <= 0:\n",
    "            raise PrecioInvalidoError(\"El precio debe ser mayor que 0\")\n",
    "        if not isinstance(precio, (int, float)):\n",
    "            raise PrecioInvalidoError(\"El precio debe ser un número\")\n",
    "    \n",
    "    def actualizar_stock(self, cantidad):\n",
    "        if self.stock + cantidad < 0:\n",
    "            raise StockError(f\"Stock insuficiente. Stock actual: {self.stock}\")\n",
    "        self.stock += cantidad"
   ]
  },
  {
   "cell_type": "code",
   "execution_count": null,
   "id": "bb11de4c",
   "metadata": {},
   "outputs": [],
   "source": [
    "print(\"\\n1. Manejo de excepciones personalizadas:\")\n",
    "try:\n",
    "    laptop = Producto(\"Laptop Pro\", 1200, 5)\n",
    "    laptop.actualizar_stock(-6)  # Intentar restar más del stock disponible\n",
    "except StockError as e:\n",
    "    print(f\"Error de stock: {str(e)}\")\n",
    "except PrecioInvalidoError as e:\n",
    "    print(f\"Error de precio: {str(e)}\")"
   ]
  },
  {
   "cell_type": "markdown",
   "id": "5ce5f77b",
   "metadata": {},
   "source": [
    "### Ejemplo 2.\n",
    "\n",
    "La función `open()` es un ejemplo común de un gestor de contexto en Python. Abre un archivo y garantiza que se cierre correctamente después de su uso."
   ]
  },
  {
   "cell_type": "code",
   "execution_count": null,
   "id": "f5beae49",
   "metadata": {},
   "outputs": [],
   "source": [
    "print(\"Se intentará abrir un archivo.\")\n",
    "try:\n",
    "    with open(\"registro.txt\", \"r\") as archivo:\n",
    "        contenido = archivo.read()\n",
    "        print(contenido)\n",
    "        # El archivo se cierra automáticamente al salir del bloque with\n",
    "    print(\"Archivo abierto y cerrado correctamente\")\n",
    "except IOError as e:\n",
    "    print(f\"Error de archivo: {str(e)}\")"
   ]
  },
  {
   "cell_type": "code",
   "execution_count": null,
   "id": "9d2e1a97",
   "metadata": {},
   "outputs": [],
   "source": [
    "print(\"Se creará un archivo.\")\n",
    "try:\n",
    "    with open(\"registro.txt\", \"w\") as archivo:\n",
    "        archivo.write(\"Registro de ventas\\n\")\n",
    "        # El archivo se cierra automáticamente al salir del bloque with\n",
    "    print(\"Archivo creado y cerrado correctamente\")\n",
    "except IOError as e:\n",
    "    print(f\"Error de archivo: {str(e)}\")"
   ]
  },
  {
   "cell_type": "code",
   "execution_count": null,
   "id": "a56986d6",
   "metadata": {},
   "outputs": [],
   "source": [
    "print(\"Se intentará abrir un archivo.\")\n",
    "try:\n",
    "    with open(\"registro.txt\", \"r\") as archivo:\n",
    "        contenido = archivo.read()\n",
    "        print(contenido)\n",
    "        # El archivo se cierra automáticamente al salir del bloque with\n",
    "    print(\"Archivo abierto y cerrado correctamente\")\n",
    "except IOError as e:\n",
    "    print(f\"Error de archivo: {str(e)}\")"
   ]
  },
  {
   "cell_type": "markdown",
   "id": "bbe6cd1c",
   "metadata": {},
   "source": [
    "### Ejemplo 3."
   ]
  },
  {
   "cell_type": "code",
   "execution_count": null,
   "id": "88b0232b",
   "metadata": {},
   "outputs": [],
   "source": [
    "def validar_venta(producto, cantidad):\n",
    "    if cantidad <= 0:\n",
    "        raise ValueError(\"La cantidad debe ser positiva\")\n",
    "    if cantidad > producto.stock:\n",
    "        raise StockError(\"Stock insuficiente\")"
   ]
  },
  {
   "cell_type": "code",
   "execution_count": null,
   "id": "42495910",
   "metadata": {},
   "outputs": [],
   "source": [
    "print(\"Propagación de excepciones:\")\n",
    "try:\n",
    "    producto = Producto(\"Tablet\", 500, 3)\n",
    "    try:\n",
    "        validar_venta(producto, -1)\n",
    "    except ValueError as e:\n",
    "        print(f\"Error de validación: {str(e)}\")\n",
    "        raise  # Propaga la excepción\n",
    "except Exception as e:\n",
    "    print(f\"Error capturado en nivel superior: {type(e).__name__}\")"
   ]
  }
 ],
 "metadata": {
  "kernelspec": {
   "display_name": "Python 3",
   "language": "python",
   "name": "python3"
  },
  "language_info": {
   "codemirror_mode": {
    "name": "ipython",
    "version": 3
   },
   "file_extension": ".py",
   "mimetype": "text/x-python",
   "name": "python",
   "nbconvert_exporter": "python",
   "pygments_lexer": "ipython3",
   "version": "3.12.1"
  }
 },
 "nbformat": 4,
 "nbformat_minor": 5
}
