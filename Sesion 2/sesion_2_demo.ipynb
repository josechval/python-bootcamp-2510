{
 "cells": [
  {
   "cell_type": "markdown",
   "id": "7d766d08",
   "metadata": {},
   "source": [
    "# Sesión 2 - Demo - Tipos de datos y expresiones."
   ]
  },
  {
   "cell_type": "markdown",
   "id": "f3631cca",
   "metadata": {},
   "source": [
    "## Tabla de tipos de datos básicos de Python 3.\n",
    "\n",
    "La siguiente tabla resume y describe los tipos de datos básicos de Python 3. \n",
    "\n",
    "|Tipo de dato|Colección|Indexable|Mutable|Contenido|Ejemplo|\n",
    "|:-----------:|:--:|:--:|:--:|:----:|:-----|\n",
    "|```int```|NO|NO|NO|Números enteros|```-12```|\n",
    "|```float```|NO|NO|NO|Números de punto flotante|```4.361```|\n",
    "|```complex```|NO|NO|NO|Números complejos|```(41.6-11.3j)```|\n",
    "|```bool```|NO|NO|NO|Valores booleanos|```True```|\n",
    "|```NoneType```|NO|NO|NO|Sin valor|```None```|\n",
    "|```str```|SÍ|Numérico|NO|Caracteres Unicode|```'Gödel'```  o ```\"Gödel\"```|\n",
    "|```bytes```|SÍ|Numérico|NO|Caracteres ASCII|```b'Hola'``` o ```b\"Hola\"```|\n",
    "|```bytearray```|SÍ|Numérico|SÍ|Caracteres ASCII|```bytearray(b'Hola')```|\n",
    "|```list```|SÍ|Numérico|SÍ|Cualquier objeto|```[1, 2.0, 'Tres']```|\n",
    "|```tuple```|SÍ|Numérico|NO|Cualquier objeto|```(1, 2.0, 'Tres')```|\n",
    "|```dict```|SÍ|Por clave|Sí|Pares *clave:valor*|```{'nombre':'Juan', 'promedio':10}```|\n",
    "|```set```|SÍ|NO|SÍ|Objetos inmutables|```{1, False, 'María'}```|\n",
    "|```frozenset```|SÍ|NO|NO|Objetos inmutables|```frozenset({{1, False, 'María'})```|\n",
    "\n",
    "* **Las colecciones** son objetos que contienen a otros objetos. A los objetos contenidos también se les refiere como elementos.\n",
    "\n",
    "* **Los tipos indexables** tienen la capacidad de asignar a cada uno de los elementos que contienen un identificador único (índice) que puede consistir en un número entero o una clave dependiendo del tipo del que se trate.\n",
    "\n",
    "* **Los tipos mutables** permiten eliminar, sustituir e incluso añadir elementos a su contenido."
   ]
  },
  {
   "cell_type": "markdown",
   "id": "33d25675",
   "metadata": {},
   "source": [
    "## Expresiones y operadores."
   ]
  },
  {
   "cell_type": "markdown",
   "id": "639a176d",
   "metadata": {},
   "source": [
    "Una expresión es una combinación de nombres, objetos, operadores, funciones y métodos cuya sintaxis es correcta para el intérprete de *Python* y que puede dar por resultado un objeto específico. \n",
    "\n",
    "El resultado de una expresión es mostrado en el intérprete cuando se usa el shell, pero no cuando se ejecuta un script."
   ]
  },
  {
   "cell_type": "markdown",
   "id": "0ab131f5",
   "metadata": {},
   "source": [
    "### Operadores Aritméticos.\n",
    "\n",
    "Estos operadores realizan operaciones matemáticas.\n",
    "\n",
    "| Operador | Nombre | Ejemplo | Resultado |\n",
    "| :--- | :--- | :--- | :--- |\n",
    "| `+` | Suma | `10 + 5` | `15` |\n",
    "| `-` | Resta | `10 - 5` | `5` |\n",
    "| `*` | Multiplicación | `10 * 5` | `50` |\n",
    "| `/` | División | `10 / 5` | `2.0` |\n",
    "| `//` | División entera | `10 // 3` | `3` |\n",
    "| `%` | Módulo | `10 % 3` | `1` |\n",
    "| `**` | Exponenciación | `2 ** 3` | `8` |"
   ]
  },
  {
   "cell_type": "code",
   "execution_count": null,
   "id": "5781c271",
   "metadata": {},
   "outputs": [],
   "source": [
    "2 + 3"
   ]
  },
  {
   "cell_type": "code",
   "execution_count": null,
   "id": "2adc1f76",
   "metadata": {},
   "outputs": [],
   "source": [
    "2 / 3"
   ]
  },
  {
   "cell_type": "code",
   "execution_count": null,
   "id": "e7fc7316",
   "metadata": {},
   "outputs": [],
   "source": [
    "2 // 3"
   ]
  },
  {
   "cell_type": "code",
   "execution_count": null,
   "id": "92eb644f",
   "metadata": {},
   "outputs": [],
   "source": [
    "2 % 3"
   ]
  },
  {
   "cell_type": "code",
   "execution_count": null,
   "id": "f62f9f7b",
   "metadata": {},
   "outputs": [],
   "source": [
    "2 * 3"
   ]
  },
  {
   "cell_type": "code",
   "execution_count": null,
   "id": "c7884c60",
   "metadata": {},
   "outputs": [],
   "source": [
    "2 ** 3"
   ]
  },
  {
   "cell_type": "code",
   "execution_count": null,
   "id": "c13372b9",
   "metadata": {},
   "outputs": [],
   "source": [
    "4 ** (0.5)"
   ]
  },
  {
   "cell_type": "markdown",
   "id": "105b6752",
   "metadata": {},
   "source": [
    "### Operador de concatenación `+`.\n",
    "\n",
    "En el caso de coleccione con índices numéricos, el operador `+` permite crear una nueva colección uniendo las coleciones de ambos lados.\n",
    "\n",
    "```\n",
    "<colección_1> + <colección_2>\n",
    "```\n",
    "Donde:\n",
    "\n",
    "* `<colección_1>` y `<colección_2>` son colecciones del mismo tipo. "
   ]
  },
  {
   "cell_type": "code",
   "execution_count": null,
   "id": "286833e3",
   "metadata": {},
   "outputs": [],
   "source": [
    "\"Hola\" + 'Mundo'"
   ]
  },
  {
   "cell_type": "code",
   "execution_count": null,
   "id": "1e64fe86",
   "metadata": {},
   "outputs": [],
   "source": [
    "[1, 2, 3] + ['cuatro',  'cinco', 'seis']"
   ]
  },
  {
   "cell_type": "markdown",
   "id": "e38b7f4f",
   "metadata": {},
   "source": [
    "### Operador de repetición `*`.\n",
    "\n",
    "En el caso de colecciones con índices numéricos, el operador `*` permite crear una nueva colección repitiendo la colección original de forma sucesiva un número determinado de veces. El orden de los factores es indistinto.\n",
    "\n",
    "```\n",
    "<colección> * <n>\n",
    "```\n",
    "Donde:\n",
    "\n",
    "* `<colección>`: es una colección.\n",
    "* `<n>`: es el número de veces consecutivas que se repetirá la colección.\n"
   ]
  },
  {
   "cell_type": "code",
   "execution_count": null,
   "id": "c09cc7cf",
   "metadata": {},
   "outputs": [],
   "source": [
    "\"Hola\" * 2"
   ]
  },
  {
   "cell_type": "code",
   "execution_count": null,
   "id": "a880011c",
   "metadata": {},
   "outputs": [],
   "source": [
    "2 * (1, 3, 6)"
   ]
  },
  {
   "cell_type": "markdown",
   "id": "3f1ea7df",
   "metadata": {},
   "source": [
    "## La función `print()`.\n",
    "\n",
    "La función `print()` permite desplegar en el intérprete o en la salida estándar los resultados de expresiones y/o mensajes que se ingresan como argumentos.\n",
    "\n",
    "```\n",
    "print(<contenidos>)\n",
    "```\n",
    "Donde:\n",
    "\n",
    "* `<contenidos>` puede ser una o variaas expresiones o mensajes contenidos cadenas de caracteres de tipo `str`."
   ]
  },
  {
   "cell_type": "code",
   "execution_count": null,
   "id": "4831053d",
   "metadata": {},
   "outputs": [],
   "source": [
    "print(\"Hola\")"
   ]
  },
  {
   "cell_type": "code",
   "execution_count": null,
   "id": "a96c001d",
   "metadata": {},
   "outputs": [],
   "source": [
    "print(\"Hola\" + \" \" + \"Mundo\")"
   ]
  },
  {
   "cell_type": "code",
   "execution_count": null,
   "id": "a216c2de",
   "metadata": {},
   "outputs": [],
   "source": [
    "print(\"Hola\", 12 + 23, \"amigos\")"
   ]
  },
  {
   "cell_type": "code",
   "execution_count": null,
   "id": "e9d5702b",
   "metadata": {},
   "outputs": [],
   "source": [
    "print(f\"Dos mas dos es {2 + 2}.\")"
   ]
  },
  {
   "cell_type": "markdown",
   "id": "faf48162",
   "metadata": {},
   "source": [
    "## Variables.\n",
    "\n",
    "En Python, las variables son espacios de memoria con un nombre que se utilizan para guardar datos. "
   ]
  },
  {
   "cell_type": "markdown",
   "id": "84fb63bf",
   "metadata": {},
   "source": [
    "### Nomenclatura de Variables.\n",
    "\n",
    "Para nombrar una variable, sigue estas reglas:\n",
    "\n",
    "  * **Debe empezar con una letra o un guion bajo** (`_`). No puede comenzar con un número.\n",
    "  * **Solo puede contener letras, números y guiones bajos**. Los espacios y otros caracteres especiales no están permitidos.\n",
    "  * **Es sensible a mayúsculas y minúsculas**. Por ejemplo, `nombre` y `Nombre` son dos variables distintas.\n",
    "  * **No se puede usar una palabra reservada de Python** (como `for`, `while`, `class`, etc.)."
   ]
  },
  {
   "cell_type": "code",
   "execution_count": null,
   "id": "56d402ff",
   "metadata": {},
   "outputs": [],
   "source": [
    "mi_variable = 10\n",
    "_otra_variable = \"Hola Mundo\"\n",
    "MiVariable = 5"
   ]
  },
  {
   "cell_type": "code",
   "execution_count": null,
   "id": "895bb8b8",
   "metadata": {},
   "outputs": [],
   "source": [
    "print(mi_variable)\n",
    "print(_otra_variable)\n",
    "print(MiVariable)"
   ]
  },
  {
   "cell_type": "markdown",
   "id": "3843f708",
   "metadata": {},
   "source": [
    "### Operadores de Asignación.\n",
    "\n",
    "Los operadores de asignación permiten darle uno o varios nombres a un valor/objeto que se almacena en memoria. El principal operador de asignación es `=`.\n",
    "\n",
    "Estos otros operadores se pueden usar siempre y cuando la variable ya tenga un valor asignado previamente.\n",
    "\n",
    "| Operador | Ejemplo | Equivalente a | Resultado (si `x = 10`) |\n",
    "| :--- | :--- | :--- | :--- |\n",
    "| `+=` | `x += 5` | `x = x + 5` | `x` es `15` |\n",
    "| `-=` | `x -= 5` | `x = x - 5` | `x` es `5` |\n",
    "| `*=` | `x *= 5` | `x = x * 5` | `x` es `50` |\n",
    "| `/=` | `x /= 5` | `x = x / 5` | `x` es `2.0` |\n",
    "| `**=`| `x **= 2` | `x = x ** 2` | `x` es `100` |"
   ]
  },
  {
   "cell_type": "code",
   "execution_count": null,
   "id": "f52dc4e7",
   "metadata": {},
   "outputs": [],
   "source": [
    "x = 12\n",
    "print(x)"
   ]
  },
  {
   "cell_type": "code",
   "execution_count": null,
   "id": "7f2a1275",
   "metadata": {},
   "outputs": [],
   "source": [
    "x += 1\n",
    "print(x)"
   ]
  },
  {
   "cell_type": "code",
   "execution_count": null,
   "id": "f1c13524",
   "metadata": {},
   "outputs": [],
   "source": [
    "x *= 5\n",
    "print(x)"
   ]
  },
  {
   "cell_type": "markdown",
   "id": "0ce80240",
   "metadata": {},
   "source": [
    "### Tipado dinámico.\n",
    "\n",
    "Python es un lenguaje con **tipado dinámico**, lo que significa que no necesitas declarar el tipo de una variable antes de asignarle un valor. El intérprete de Python lo deduce automáticamente."
   ]
  },
  {
   "cell_type": "code",
   "execution_count": null,
   "id": "49254df0",
   "metadata": {},
   "outputs": [],
   "source": [
    "edad = 30\n",
    "print(edad)"
   ]
  },
  {
   "cell_type": "code",
   "execution_count": null,
   "id": "86060d56",
   "metadata": {},
   "outputs": [],
   "source": [
    "# Puedes cambiar el tipo de una variable en cualquier momento\n",
    "edad = \"treinta\"\n",
    "print(edad)"
   ]
  },
  {
   "cell_type": "markdown",
   "id": "df60eba9",
   "metadata": {},
   "source": [
    "### Variables del Intérprete.\n",
    "\n",
    "Además de las variables que creas, Python tiene algunas variables especiales, conocidas como **variables dunders** (por sus guiones bajos dobles, del inglés *double underscores*), que el intérprete utiliza para almacenar información sobre el programa.\n",
    "\n",
    "Una de las más importantes es `__name__`. Esta variable se usa para identificar el contexto en el que se está ejecutando un script.\n",
    "\n",
    "  * Si ejecutas el script directamente, el valor de `__name__` será `\"__main__\"`.\n",
    "  * Si el script es importado como un módulo en otro script, el valor de `__name__` será el nombre del archivo del script (sin la extensión `.py`).\n",
    "\n",
    "Esta característica se usa comúnmente para crear un bloque de código que solo se ejecutará cuando el script sea el programa principal.\n",
    "\n",
    "```python\n",
    "# Esto es un ejemplo de cómo se usa __name__\n",
    "def saludar():\n",
    "    print(\"¡Hola desde la función saludar!\")\n",
    "\n",
    "if __name__ == \"__main__\":\n",
    "    print(\"Este código se ejecuta solo si el script es el programa principal.\")\n",
    "    saludar()\n",
    "```\n",
    "\n",
    "Este tipo de construcción es fundamental para la reutilización de código en proyectos más grandes, permitiendo que un archivo sea tanto un programa ejecutable como un módulo importable."
   ]
  },
  {
   "cell_type": "markdown",
   "id": "60e79029",
   "metadata": {},
   "source": [
    "La función `type()`.\n",
    "\n",
    "Entre otras cosas, la función `type()` permite obtener el tipo de dato al que pertenece un valor/objeto que se ingresa como argumento.\n",
    "\n",
    "```\n",
    "type(<obj>)\n",
    "```\n",
    "\n",
    "Donde:\n",
    "\n",
    "*`<obj>` es el valor u objeto del que se quiere saber el tipo."
   ]
  },
  {
   "cell_type": "code",
   "execution_count": null,
   "id": "32e5a128",
   "metadata": {},
   "outputs": [],
   "source": [
    "type(12)"
   ]
  },
  {
   "cell_type": "code",
   "execution_count": null,
   "id": "a91c4923",
   "metadata": {},
   "outputs": [],
   "source": [
    "type(0j)"
   ]
  },
  {
   "cell_type": "code",
   "execution_count": null,
   "id": "4ae696c7",
   "metadata": {},
   "outputs": [],
   "source": [
    "type({\"nombre\": \"Juan\"})"
   ]
  },
  {
   "cell_type": "code",
   "execution_count": null,
   "id": "84012abe",
   "metadata": {},
   "outputs": [],
   "source": [
    "type([])"
   ]
  },
  {
   "cell_type": "markdown",
   "id": "bc42ab3c",
   "metadata": {},
   "source": [
    "## *Casting*.\n",
    "\n",
    "Python permite realizar conversiones entre tipos de datos compatibles e incluso inicializar datos de cierto tipo.\n",
    "\n",
    "```\n",
    "<tipo>(<obj>)\n",
    "```\n",
    "Donde:\n",
    "\n",
    "* `<tipo>`: es el tipo de dato que se quiere crear o convertir.\n",
    "* `<obj>`: es el valor/objeto que se quiere convertir al tipo especificado. En caso de no ingresar un argument, se creará un itpo con valor nulo o vacío."
   ]
  },
  {
   "cell_type": "code",
   "execution_count": null,
   "id": "3df66cf4",
   "metadata": {},
   "outputs": [],
   "source": [
    "str()"
   ]
  },
  {
   "cell_type": "code",
   "execution_count": null,
   "id": "e4ca03e2",
   "metadata": {},
   "outputs": [],
   "source": [
    "str(12)"
   ]
  },
  {
   "cell_type": "code",
   "execution_count": null,
   "id": "31ddd26a",
   "metadata": {},
   "outputs": [],
   "source": [
    "tuple([1, 2, 3])"
   ]
  },
  {
   "cell_type": "code",
   "execution_count": null,
   "id": "ac579055",
   "metadata": {},
   "outputs": [],
   "source": [
    "list(\"Hola\")"
   ]
  },
  {
   "cell_type": "code",
   "execution_count": null,
   "id": "8fc4ac27",
   "metadata": {},
   "outputs": [],
   "source": [
    "int()"
   ]
  },
  {
   "cell_type": "code",
   "execution_count": null,
   "id": "889265ad",
   "metadata": {},
   "outputs": [],
   "source": [
    "int(12.34)"
   ]
  },
  {
   "cell_type": "code",
   "execution_count": null,
   "id": "e3644888",
   "metadata": {},
   "outputs": [],
   "source": [
    "bool(None)"
   ]
  },
  {
   "cell_type": "code",
   "execution_count": null,
   "id": "cb1542ed",
   "metadata": {},
   "outputs": [],
   "source": [
    "bool('Hola')"
   ]
  },
  {
   "cell_type": "code",
   "execution_count": null,
   "id": "e7115d7e",
   "metadata": {},
   "outputs": [],
   "source": [
    "bool()"
   ]
  },
  {
   "cell_type": "code",
   "execution_count": null,
   "id": "75ee9b97",
   "metadata": {},
   "outputs": [],
   "source": [
    "dict(nombre=\"Juan\", apellido=\"López\")"
   ]
  },
  {
   "cell_type": "code",
   "execution_count": null,
   "id": "9f795f03",
   "metadata": {},
   "outputs": [],
   "source": [
    "dict([(\"nombre\", \"Juan\"), (\"apellido\", \"Pérez\")])"
   ]
  },
  {
   "cell_type": "markdown",
   "id": "150c9c7b",
   "metadata": {},
   "source": [
    "## La función `help()`.\n",
    "\n",
    "En Python todo es un objeto y en la gran mayoría de los casos, cada atributo o método de un objeto está documentado. La función `help()` permite acceder a la documentación de un objeto, incluyendo los métodos y atributos que posee con base en el tipo o clase a partir de la cual emanan.\n"
   ]
  },
  {
   "cell_type": "code",
   "execution_count": null,
   "id": "5bf3e5e0",
   "metadata": {},
   "outputs": [],
   "source": [
    "help(1)"
   ]
  },
  {
   "cell_type": "code",
   "execution_count": null,
   "id": "ca48aeda",
   "metadata": {},
   "outputs": [],
   "source": [
    "help(list)"
   ]
  },
  {
   "cell_type": "code",
   "execution_count": null,
   "id": "28e69662",
   "metadata": {},
   "outputs": [],
   "source": [
    "help(str)"
   ]
  },
  {
   "cell_type": "code",
   "execution_count": null,
   "id": "4f8ca470",
   "metadata": {},
   "outputs": [],
   "source": [
    "obj = {'a':1, 'b':2}\n",
    "help(obj)"
   ]
  }
 ],
 "metadata": {
  "kernelspec": {
   "display_name": "py3",
   "language": "python",
   "name": "python3"
  },
  "language_info": {
   "codemirror_mode": {
    "name": "ipython",
    "version": 3
   },
   "file_extension": ".py",
   "mimetype": "text/x-python",
   "name": "python",
   "nbconvert_exporter": "python",
   "pygments_lexer": "ipython3",
   "version": "3.12.3"
  }
 },
 "nbformat": 4,
 "nbformat_minor": 5
}
