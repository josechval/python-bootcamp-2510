{
  "cells": [
    {
      "cell_type": "markdown",
      "metadata": {
        "id": "view-in-github",
        "colab_type": "text"
      },
      "source": [
        "<a href=\"https://colab.research.google.com/github/josechval/python-bootcamp-2508/blob/main/capstone_adp.ipynb\" target=\"_parent\"><img src=\"https://colab.research.google.com/assets/colab-badge.svg\" alt=\"Open In Colab\"/></a>"
      ]
    },
    {
      "cell_type": "markdown",
      "metadata": {
        "id": "rFB5lm-01NR5"
      },
      "source": [
        "# Carga y Exploración de Datos de Café Azahar\n",
        "\n",
        "## Contexto del Problema\n",
        "\n",
        "Café Azahar necesita analizar sus datos de ventas para tomar mejores decisiones de negocio. Ana María, la propietaria, tiene un archivo CSV con el registro de todas las transacciones y necesita preparar estos datos para su análisis.\n",
        "\n",
        "## Objetivos de Esta Sección\n",
        "\n",
        "Cargar correctamente los datos de ventas\n",
        "Preparar las fechas para análisis temporal\n",
        "Realizar una exploración inicial de los datos\n",
        "\n",
        "## Preparación del Ambiente"
      ]
    },
    {
      "cell_type": "code",
      "execution_count": null,
      "metadata": {
        "id": "JfcHg0-61NR6"
      },
      "outputs": [],
      "source": [
        "# Importamos las bibliotecas necesarias\n",
        "import pandas as pd\n",
        "import matplotlib.pyplot as plt\n",
        "import seaborn as sns\n",
        "from datetime import datetime\n",
        "import warnings\n",
        "\n",
        "# Configuración básica\n",
        "warnings.filterwarnings('ignore', category=FutureWarning)\n",
        "%matplotlib inline\n",
        "plt.rcParams['figure.figsize'] = [10, 6]"
      ]
    },
    {
      "cell_type": "markdown",
      "metadata": {
        "id": "05WRa8-c1NR7"
      },
      "source": [
        "### Carga y Preparación de Datos"
      ]
    },
    {
      "cell_type": "code",
      "execution_count": null,
      "metadata": {
        "id": "MEnoDp-M1NR7"
      },
      "outputs": [],
      "source": [
        "# TODO 1: Carga el archivo 'productos.csv' usando pd.read_csv()\n",
        "df = pd.read_csv('productos.csv')\n",
        "\n",
        "# TODO 2: Convierte la columna 'fecha_venta' a formato datetime\n",
        "df['fecha_venta'] = pd.to_datetime(df['fecha_venta'])\n",
        "\n",
        "# Verificamos la carga exitosa\n",
        "print(f\"Datos cargados: {len(df)} registros\")\n",
        "\n",
        "# TODO 3: Muestra información básica del DataFrame\n",
        "print(\"\\nInformación del DataFrame:\")\n",
        "print(df.info())\n",
        "\n",
        "print(\"\\nEstadísticas descriptivas:\")\n",
        "print(df.describe())\n",
        "\n",
        "# TODO 4: Muestra las primeras 5 filas de los datos\n",
        "print(\"\\nPrimeros registros:\")\n",
        "df.head()\n",
        "\n",
        "# TODO 5: Muestra un resumen de valores únicos en columnas clave para Categorías y Métodos de Pago\n",
        "print(\"\\nCategorías únicas:\")\n",
        "print(df['categoria'].value_counts())\n",
        "\n",
        "print(\"\\nMétodos de pago:\")\n",
        "print(df['metodo_pago'].value_counts())\n"
      ]
    },
    {
      "cell_type": "markdown",
      "metadata": {
        "id": "Qd3PX29L1NR7"
      },
      "source": [
        "### Exploración Inicial de Datos"
      ]
    },
    {
      "cell_type": "code",
      "execution_count": null,
      "metadata": {
        "id": "iJ_b_8To1NR7"
      },
      "outputs": [],
      "source": [
        "# TODO 3: Muestra información básica del DataFrame\n",
        "# Hint: Usa los métodos info() y describe()\n",
        "print(\"\\nInformación del DataFrame:\")\n",
        "df.info()\n",
        "print(\"\\nEstadísticas descriptivas:\")\n",
        "df.describe()\n",
        "\n",
        "# TODO 4: Muestra las primeras 5 filas de los datos\n",
        "# Hint: Usa el método head()\n",
        "print(\"\\nPrimeros registros:\")\n",
        "df.head()\n",
        "\n",
        "# TODO 5: Muestra un resumen de valores únicos en columnas clave\n",
        "# Hint: Usa value_counts() para 'categoria' y 'metodo_pago'\n",
        "print(\"\\nCategorías únicas:\")\n",
        "print(df['categoria'].value_counts())\n",
        "\n",
        "print(\"\\nMétodos de pago:\")\n",
        "print(df['metodo_pago'].value_counts())"
      ]
    },
    {
      "cell_type": "markdown",
      "metadata": {
        "id": "Y3X-LScK1NR7"
      },
      "source": [
        "## Reto 1: Análisis de Patrones de Demanda\n",
        "\n",
        "### Contexto del Negocio\n",
        "\n",
        "Ana María necesita entender los patrones de demanda en Café Azahar para optimizar su inventario y personal. Específicamente, necesita identificar:\n",
        "\n",
        "- Las horas de mayor venta\n",
        "- Los productos más populares\n",
        "- Los días con mayor actividad\n",
        "\n",
        "### Objetivos de Análisis\n",
        "\n",
        "- Calcular ventas por hora del día\n",
        "- Identificar productos más vendidos\n",
        "- Visualizar patrones temporales\n",
        "\n",
        "### Implementación del Análisis"
      ]
    },
    {
      "cell_type": "code",
      "execution_count": null,
      "metadata": {
        "id": "Jh0FVJLJ1NR7"
      },
      "outputs": [],
      "source": [
        "\n",
        "# Ventas por hora\n",
        "ventas_hora = df.groupby(df['fecha_venta'].dt.hour)['total_venta'].sum()\n",
        "\n",
        "# Productos top\n",
        "productos_top = df.groupby('nombre_producto')['cantidad'].sum().sort_values(ascending=False)\n",
        "\n",
        "# Ventas por dia\n",
        "ventas_dia = df.groupby(df['fecha_venta'].dt.day_name())['total_venta'].sum()\n"
      ]
    },
    {
      "cell_type": "markdown",
      "metadata": {
        "id": "1BtcvQmb1NR8"
      },
      "source": [
        "### Visualización de Patrones"
      ]
    },
    {
      "cell_type": "code",
      "execution_count": null,
      "metadata": {
        "id": "iMgorRoL1NR8"
      },
      "outputs": [],
      "source": [
        "# Creamos una figura con tres subplots\n",
        "fig, (ax1, ax2, ax3) = plt.subplots(1, 3, figsize=(20, 6))\n",
        "\n",
        "# TODO 4: Gráfico de Ventas por Hora\n",
        "# Hint: Usa ax1.bar() con los índices y valores de ventas_hora\n",
        "ax1.bar(ventas_hora.index,ventas_hora.values,color='skyblue')  # Completa los parámetros\n",
        "ax1.set_title('Ventas por Hora')\n",
        "ax1.set_xlabel('Hora')\n",
        "ax1.set_ylabel('Ventas Totales')\n",
        "\n",
        "#  Gráfico de Productos Top\n",
        "\n",
        "productos_top.head(10).plot(kind='barh', ax=ax2)\n",
        "ax2.set_title('Top 10 Productos')\n",
        "\n",
        "# TODO 6: Gráfico de Ventas por Día\n",
        "# Hint: Usa ventas_dia.plot(kind='bar', ax=ax3)\n",
        "ventas_dia.plot(kind='bar', ax=ax3)\n",
        "ax3.set_title('Ventas por Día')\n",
        "ax3.tick_params(axis='x', rotation=45)\n",
        "\n",
        "plt.tight_layout()\n",
        "plt.show()"
      ]
    },
    {
      "cell_type": "markdown",
      "metadata": {
        "id": "7glc3SMm1NR8"
      },
      "source": [
        "### Análisis de Resultados"
      ]
    },
    {
      "cell_type": "code",
      "execution_count": null,
      "metadata": {
        "id": "pV4cOrYp1NR8"
      },
      "outputs": [],
      "source": [
        "def analizar_patrones():\n",
        "    # TODO 7: Calcula e imprime insights clave\n",
        "    # Hint: Usa métodos como idxmax(), max(), mean()\n",
        "\n",
        "    print(\"INSIGHTS DE PATRONES DE DEMANDA\")\n",
        "    print(\"-\" * 40)\n",
        "\n",
        "    # Hora pico\n",
        "    hora_pico = ventas_hora.idxmax()\n",
        "    ventas_pico = ventas_hora.max()\n",
        "    print(f\"Hora pico: {hora_pico}:00 (${ventas_pico:,.0f})\")\n",
        "\n",
        "    # Producto más vendido (usa index[0] para obtener el primer valor)\n",
        "    producto_top = productos_top.index[0]\n",
        "    # Cantidad de unidades vendidas (usa iloc[0] para obtener el primer valor)\n",
        "    cantidad_top = productos_top.iloc[0]\n",
        "    print(f\"Producto más vendido: {producto_top} ({cantidad_top} unidades)\")\n",
        "\n",
        "    # Día más ocupado\n",
        "    dia_top = ventas_dia.idxmax()\n",
        "    ventas_dia_top = ventas_dia.max()\n",
        "    print(f\"Día más ocupado: {dia_top} (${ventas_dia_top:,.0f})\")\n",
        "\n",
        "analizar_patrones()"
      ]
    },
    {
      "cell_type": "markdown",
      "metadata": {
        "id": "38JpFeaB1NR8"
      },
      "source": [
        "## Reto 2: Análisis de Experiencia del Cliente\n",
        "### Contexto del Negocio\n",
        "\n",
        "Ana María quiere entender mejor cómo sus clientes interactúan con Café Azahar. Necesitamos analizar:\n",
        "\n",
        "- Preferencias de pago\n",
        "- Patrones de consumo por categoría\n",
        "- Valor promedio de compra\n",
        "\n",
        "### Objetivos de Análisis\n",
        "\n",
        "- Analizar métodos de pago preferidos\n",
        "- Calcular ticket promedio por categoría\n",
        "- Identificar patrones de consumo\n",
        "\n",
        "### Implementación del Análisis"
      ]
    },
    {
      "cell_type": "code",
      "execution_count": null,
      "metadata": {
        "id": "Mct9Aolt1NR9"
      },
      "outputs": [],
      "source": [
        "# TODO 1: Análisis de Métodos de Pago\n",
        "# Calcula la distribución de métodos de pago\n",
        "# Hint: Usa value_counts() en la columna 'metodo_pago'\n",
        "print(\"Distribución de métodos de pago:\")\n",
        "metodos_pago = df['metodo_pago'].value_counts()\n",
        "print(metodos_pago)\n",
        "\n",
        "# TODO 2: Análisis de Ticket Promedio por Categoría\n",
        "# Calcula promedio y conteo de ventas por categoría\n",
        "# Hint: Usa groupby con agg() y las funciones ['mean', 'count']\n",
        "print(\"\\nEstadísticas por categoría:\")\n",
        "ticket_categoria = df.groupby('categoria')['total_venta'].agg(['mean', 'count'])\n",
        "print(ticket_categoria.round(2))\n",
        "\n",
        "# TODO 3: Análisis de Patrones de Consumo\n",
        "# Calcula el total de ventas por categoría\n",
        "# Hint: Usa groupby con sum()\n",
        "print(\"\\nVentas totales por categoría:\")\n",
        "ventas_categoria = df.groupby('categoria')['total_venta'].sum()\n",
        "print(ventas_categoria.sort_values(ascending=False))"
      ]
    },
    {
      "cell_type": "markdown",
      "metadata": {
        "id": "NypkmwBt1NR9"
      },
      "source": [
        "### Visualización de Patrones"
      ]
    },
    {
      "cell_type": "code",
      "execution_count": null,
      "metadata": {
        "id": "cvGWwmhI1NR9"
      },
      "outputs": [],
      "source": [
        "# Creamos una figura con dos subplots\n",
        "fig, (ax1, ax2) = plt.subplots(1, 2, figsize=(15, 6))\n",
        "\n",
        "# TODO 4: Gráfico de Métodos de Pago\n",
        "# Hint: Usa plot(kind='pie') con autopct='%1.1f%%'\n",
        "# Completa los parámetros para el gráfico circular\n",
        "metodos_pago.plot(\n",
        "    kind='pie',\n",
        "    ax=ax1,\n",
        "    autopct='%1.1f%%'\n",
        ")\n",
        "ax1.set_title('Distribución de Métodos de Pago')\n",
        "\n",
        "# TODO 5: Gráfico de Ticket Promedio\n",
        "# Hint: Usa el resultado de ticket_categoria['mean'] con plot(kind='bar')\n",
        "# Completa los parámetros para el gráfico de barras\n",
        "\n",
        "ticket_categoria['mean'].plot(\n",
        "    kind='bar',\n",
        "    ax=ax2,\n",
        "    color='skyblue'\n",
        ")\n",
        "ax2.set_title('Ticket Promedio por Categoría')\n",
        "ax2.set_ylabel('Monto (COP)')\n",
        "ax2.tick_params(axis='x', rotation=45)\n",
        "\n",
        "plt.tight_layout()\n",
        "plt.show()"
      ]
    },
    {
      "cell_type": "markdown",
      "metadata": {
        "id": "V3eucMkP1NR9"
      },
      "source": [
        "### Análisis Detallado"
      ]
    },
    {
      "cell_type": "code",
      "execution_count": null,
      "metadata": {
        "id": "y7BIWz9L1NR9"
      },
      "outputs": [],
      "source": [
        "def analizar_experiencia_cliente():\n",
        "    print(\"MÉTRICAS CLAVE DE EXPERIENCIA DEL CLIENTE\")\n",
        "    print(\"-\" * 50)\n",
        "\n",
        "    # Ticket promedio general\n",
        "    ticket_promedio = df['total_venta'].mean()\n",
        "    print(f\"Ticket promedio: ${ticket_promedio:.2f}\")\n",
        "\n",
        "    # Método de pago preferido\n",
        "    metodo_preferido = metodos_pago.index[0]\n",
        "    uso_metodo = metodos_pago.iloc[0]\n",
        "    print(f\"Método de pago más usado: {metodo_preferido} ({uso_metodo} veces)\")\n",
        "\n",
        "    # Categoría más popular\n",
        "    categoria_popular = ticket_categoria['count'].idxmax()\n",
        "    total_ventas = ventas_categoria[categoria_popular]\n",
        "    print(f\"Categoría más vendida: {categoria_popular} (${total_ventas:,.0f})\")  # Corregido aquí\n",
        "\n",
        "    # Patrones por hora\n",
        "    print(\"\\nPATRONES DE CONSUMO POR HORA\")\n",
        "    print(\"-\" * 50)\n",
        "\n",
        "    # Calcula la hora más popular por categoría\n",
        "    hora_categoria = df.groupby([df['fecha_venta'].dt.hour, 'categoria'])['total_venta'].sum()\n",
        "    horas_pico = hora_categoria.unstack()\n",
        "\n",
        "    # Encuentra la hora pico para cada categoría\n",
        "    for categoria in horas_pico.columns:\n",
        "        hora_pico = horas_pico[categoria].idxmax()\n",
        "        venta_pico = horas_pico[categoria].max()\n",
        "        print(f\"{categoria}: Hora pico {hora_pico}:00 (${venta_pico:,.0f})\")\n",
        "\n",
        "analizar_experiencia_cliente()"
      ]
    },
    {
      "cell_type": "markdown",
      "metadata": {
        "id": "eu549FVB1NR9"
      },
      "source": [
        "## Reto 3: Análisis Regional\n",
        "### Contexto del Negocio\n",
        "\n",
        "Ana María está considerando expandir Café Azahar a nuevas ubicaciones. Necesita entender:\n",
        "\n",
        "- El desempeño por región\n",
        "- Preferencias locales\n",
        "- Oportunidades de expansión\n",
        "\n",
        "### Objetivos de Análisis\n",
        "\n",
        "- Analizar ventas por región\n",
        "- Identificar preferencias regionales\n",
        "- Evaluar métodos de pago por región\n",
        "\n",
        "### Implementación del Análisis"
      ]
    },
    {
      "cell_type": "code",
      "execution_count": null,
      "metadata": {
        "id": "XX9yFCU91NR9"
      },
      "outputs": [],
      "source": [
        "\n",
        "ventas_region = df.groupby('region')['total_venta'].sum()\n",
        "\n",
        "\n",
        "\n",
        "productos_region = pd.crosstab(df['region'], df['categoria'])\n",
        "\n",
        "\n",
        "pagos_region = pd.crosstab(df['region'], df['metodo_pago'])\n"
      ]
    },
    {
      "cell_type": "markdown",
      "metadata": {
        "id": "Ccq9UEbB1NR9"
      },
      "source": [
        "### Visualización de Patrones Regionales"
      ]
    },
    {
      "cell_type": "code",
      "execution_count": null,
      "metadata": {
        "id": "spLa4L8Q1NR-"
      },
      "outputs": [],
      "source": [
        "# Creamos una figura con dos subplots\n",
        "fig, (ax1, ax2) = plt.subplots(1, 2, figsize=(15, 6))\n",
        "\n",
        "# TODO 4: Gráfico de Ventas por Región\n",
        "# Hint: Usa plot(kind='bar') para ventas_region\n",
        "\n",
        "ventas_region.plot(kind='bar', ax=ax1, color='skyblue')\n",
        "\n",
        "ax1.set_title('Ventas Totales por Región')\n",
        "ax1.set_xlabel('Región')\n",
        "ax1.set_ylabel('Ventas (COP)')\n",
        "ax1.tick_params(axis='x', rotation=45)\n",
        "\n",
        "\n",
        "# TODO 5: Mapa de Calor de Categorías por Región\n",
        "# Hint: Usa sns.heatmap() con productos_region\n",
        "sns.heatmap(\n",
        "    productos_region,\n",
        "    annot=True,    # Mostrar valores\n",
        "    fmt='d',       # Formato entero\n",
        "    cmap='YlOrRd', # Esquema de color\n",
        "    ax=ax2\n",
        ")\n",
        "ax2.set_title('Distribución de Categorías por Región')\n",
        "\n",
        "plt.tight_layout()\n",
        "plt.show()"
      ]
    },
    {
      "cell_type": "markdown",
      "metadata": {
        "id": "Zi3hug281NR-"
      },
      "source": [
        "### Análisis Detallado"
      ]
    },
    {
      "cell_type": "code",
      "execution_count": null,
      "metadata": {
        "id": "DPm6Pzo21NR-"
      },
      "outputs": [],
      "source": [
        "def analizar_regiones():\n",
        "    # TODO 6: Calcula métricas clave por región\n",
        "    print(\"ANÁLISIS REGIONAL\")\n",
        "    print(\"-\" * 40)\n",
        "\n",
        "    # Región con mayores ventas\n",
        "    region_top = ventas_region.idxmax()\n",
        "    ventas_top = ventas_region.max()\n",
        "    print(f\"Región líder: {region_top} (${ventas_top:,.0f})\")\n",
        "\n",
        "    # Ticket promedio por región\n",
        "    ticket_region = df.groupby('region')['total_venta'].mean()\n",
        "    print(\"\\nTicket promedio por región:\")\n",
        "    print(ticket_region.round(2))\n",
        "\n",
        "    # TODO 7: Identifica categoría más popular por región\n",
        "    print(\"\\nCategoría favorita por región:\")\n",
        "    for region in productos_region.index:\n",
        "        categoria_favorita = productos_region.loc[region].idxmax()\n",
        "        cantidad = productos_region.loc[region].max()\n",
        "        print(f\"{region}: {categoria_favorita} ({cantidad} ventas)\")\n",
        "\n",
        "analizar_regiones()"
      ]
    },
    {
      "cell_type": "markdown",
      "metadata": {
        "id": "oihe-TZF1NR-"
      },
      "source": [
        "### Reporte Final"
      ]
    },
    {
      "cell_type": "code",
      "execution_count": null,
      "metadata": {
        "id": "CjRPVGZc1NR-"
      },
      "outputs": [],
      "source": [
        "# Generar reporte ejecutivo\n",
        "def generar_reporte():\n",
        "    reporte = f\"\"\"\n",
        "    REPORTE EJECUTIVO - CAFÉ AZAHAR\n",
        "    Fecha: {datetime.now().strftime('%Y-%m-%d')}\n",
        "\n",
        "    1. PATRONES DE DEMANDA\n",
        "    ---------------------\n",
        "    • Hora pico: {ventas_hora.idxmax()}:00 (${ventas_hora.max():,.0f})\n",
        "    • Producto más vendido: {productos_top.index[0]} ({productos_top.iloc[0]} unidades)\n",
        "\n",
        "    2. EXPERIENCIA DEL CLIENTE\n",
        "    ------------------------\n",
        "    • Ticket promedio general: ${df['total_venta'].mean():,.2f}\n",
        "    • Método de pago preferido: {metodos_pago.index[0]} ({metodos_pago.iloc[0]} usos)\n",
        "\n",
        "    3. ANÁLISIS REGIONAL\n",
        "    ------------------\n",
        "    • Región principal: {ventas_region.index[0]} (${ventas_region.iloc[0]:,.0f})\n",
        "    • Total regiones activas: {len(ventas_region)}\n",
        "    \"\"\"\n",
        "    return reporte\n",
        "\n",
        "print(generar_reporte())"
      ]
    }
  ],
  "metadata": {
    "kernelspec": {
      "display_name": ".venv",
      "language": "python",
      "name": "python3"
    },
    "language_info": {
      "name": "python",
      "version": "3.12.1"
    },
    "colab": {
      "provenance": [],
      "include_colab_link": true
    }
  },
  "nbformat": 4,
  "nbformat_minor": 0
}